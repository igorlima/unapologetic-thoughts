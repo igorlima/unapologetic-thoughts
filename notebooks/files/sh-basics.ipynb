{
 "cells": [
  {
   "cell_type": "markdown",
   "execution_count": 0,
   "id": "1da815da",
   "metadata": {
    "jupyter": {
     "source_hidden": false
    }
   },
   "source": [
    "# BASH\n",
    "\n",
    "A Jupyter kernel for bash: [github repo](https://github.com/takluyver/bash_kernel).\n",
    "Other available Jupyter kernels can be found [here](https://github.com/jupyter/jupyter/wiki/Jupyter-kernels)\n",
    "\n",
    "```sh\n",
    "pip3 install bash_kernel --break-system-packages\n",
    "python3 -m bash_kernel.install\n",
    "```"
   ]
  },
  {
   "cell_type": "code",
   "execution_count": 1,
   "id": "238f1fe3",
   "metadata": {
    "collapsed": false,
    "jupyter": {
     "outputs_hidden": false,
     "source_hidden": false
    }
   },
   "outputs": [
    {
     "name": "stdout",
     "output_type": "stream",
     "text": [
      "discordo.md\t\t\tREADME.md\n"
     ]
    },
    {
     "name": "stdout",
     "output_type": "stream",
     "text": [
      "euporie.jupyter-terminal.md\ttmp-env\n"
     ]
    },
    {
     "name": "stdout",
     "output_type": "stream",
     "text": [
      "lue.ebook-reader.md\n"
     ]
    }
   ],
   "source": [
    "ls"
   ]
  }
 ],
 "metadata": {
  "kernelspec": {
   "display_name": "Bash",
   "language": "bash",
   "name": "bash"
  },
  "language_info": {
   "codemirror_mode": "shell",
   "file_extension": ".sh",
   "mimetype": "text/x-sh",
   "name": "bash"
  },
  "widgets": {
   "application/vnd.jupyter.widget-state+json": {
    "state": {},
    "version_major": 2,
    "version_minor": 0
   }
  }
 },
 "nbformat": 4,
 "nbformat_minor": 5
}
