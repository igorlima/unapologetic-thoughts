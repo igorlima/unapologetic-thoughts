{
 "cells": [
  {
   "cell_type": "markdown",
   "id": "a4acba20",
   "metadata": {
    "jupyter": {
     "source_hidden": false
    }
   },
   "source": [
    "# Decorators"
   ]
  },
  {
   "cell_type": "code",
   "execution_count": 1,
   "id": "d27dc786",
   "metadata": {
    "collapsed": false,
    "jupyter": {
     "outputs_hidden": false,
     "source_hidden": false
    }
   },
   "outputs": [
    {
     "name": "stdout",
     "output_type": "stream",
     "text": [
      "Starting calculations...\n"
     ]
    },
    {
     "name": "stdout",
     "output_type": "stream",
     "text": [
      "Function add called with 5 and 3\n"
     ]
    },
    {
     "name": "stdout",
     "output_type": "stream",
     "text": [
      "Addition Result: 8\n"
     ]
    },
    {
     "name": "stdout",
     "output_type": "stream",
     "text": [
      "Function multiply called with 5 and 3\n"
     ]
    },
    {
     "name": "stdout",
     "output_type": "stream",
     "text": [
      "Multiplication Result: 15\n"
     ]
    },
    {
     "name": "stdout",
     "output_type": "stream",
     "text": [
      "Calculations completed.\n"
     ]
    }
   ],
   "source": [
    "def add(x, y):\n",
    "  print(f\"Function add called with {x} and {y}\")\n",
    "  return x + y\n",
    "\n",
    "def multiply(x, y):\n",
    "  print(f\"Function multiply called with {x} and {y}\")\n",
    "  return x * y\n",
    "\n",
    "print(\"Starting calculations...\")\n",
    "print(\"Addition Result:\", add(5, 3))\n",
    "print(\"Multiplication Result:\", multiply(5, 3))  \n",
    "print(\"Calculations completed.\")"
   ]
  },
  {
   "cell_type": "markdown",
   "id": "5061118a",
   "metadata": {
    "jupyter": {
     "source_hidden": false
    }
   },
   "source": [
    "## Decorator for Logging"
   ]
  },
  {
   "cell_type": "code",
   "execution_count": 2,
   "id": "b24d2e05",
   "metadata": {
    "collapsed": false,
    "jupyter": {
     "outputs_hidden": false,
     "source_hidden": false
    }
   },
   "outputs": [
    {
     "name": "stdout",
     "output_type": "stream",
     "text": [
      "Starting calculations...\n"
     ]
    },
    {
     "name": "stdout",
     "output_type": "stream",
     "text": [
      "add called with (5, 3) and {}\n"
     ]
    },
    {
     "name": "stdout",
     "output_type": "stream",
     "text": [
      "Addition Result: 8\n"
     ]
    },
    {
     "name": "stdout",
     "output_type": "stream",
     "text": [
      "multiply called with (5, 3) and {}\n"
     ]
    },
    {
     "name": "stdout",
     "output_type": "stream",
     "text": [
      "Multiplication Result: 15\n"
     ]
    },
    {
     "name": "stdout",
     "output_type": "stream",
     "text": [
      "Calculations completed.\n"
     ]
    }
   ],
   "source": [
    "def log_args(func):\n",
    "  def wrapper(*args, **kwargs):\n",
    "    print(f\"{func.__name__} called with {args} and {kwargs}\")\n",
    "    return func(*args, **kwargs)\n",
    "  return wrapper\n",
    "\n",
    "@log_args\n",
    "def add(x, y):\n",
    "  return x + y\n",
    "\n",
    "@log_args\n",
    "def multiply(x, y):\n",
    "  return x * y\n",
    "\n",
    "print(\"Starting calculations...\")\n",
    "print(\"Addition Result:\", add(5, 3))\n",
    "print(\"Multiplication Result:\", multiply(5, 3))  \n",
    "print(\"Calculations completed.\")"
   ]
  },
  {
   "cell_type": "markdown",
   "id": "bce849db",
   "metadata": {
    "jupyter": {
     "source_hidden": false
    }
   },
   "source": [
    "## Decorator for measuring execution time"
   ]
  },
  {
   "cell_type": "code",
   "execution_count": 3,
   "id": "614c0aa6",
   "metadata": {
    "collapsed": false,
    "jupyter": {
     "outputs_hidden": false,
     "source_hidden": false
    }
   },
   "outputs": [
    {
     "name": "stdout",
     "output_type": "stream",
     "text": [
      "heavy_task took 2.0051 seconds\n"
     ]
    },
    {
     "data": {
      "text/plain": [
       "'done'"
      ]
     },
     "execution_count": 3,
     "metadata": {},
     "output_type": "execute_result"
    }
   ],
   "source": [
    "import time\n",
    "\n",
    "def timer(func):\n",
    "  def wrapper(*args, **kwargs):\n",
    "    start = time.time()\n",
    "    result = func(*args, **kwargs)\n",
    "    end = time.time()\n",
    "    print(f\"{func.__name__} took {end - start:.4f} seconds\")\n",
    "    return result\n",
    "  return wrapper\n",
    "\n",
    "@timer\n",
    "def heavy_task():\n",
    "  time.sleep(2)\n",
    "  return \"done\"\n",
    "\n",
    "heavy_task()"
   ]
  },
  {
   "cell_type": "markdown",
   "id": "14b0202f",
   "metadata": {
    "jupyter": {
     "source_hidden": false
    }
   },
   "source": [
    "## Stacking decorator"
   ]
  },
  {
   "cell_type": "code",
   "execution_count": 6,
   "id": "855b0311",
   "metadata": {
    "collapsed": false,
    "jupyter": {
     "outputs_hidden": false,
     "source_hidden": false
    }
   },
   "outputs": [
    {
     "name": "stdout",
     "output_type": "stream",
     "text": [
      "process_data called with (3, 4) and {}\n"
     ]
    },
    {
     "name": "stdout",
     "output_type": "stream",
     "text": [
      "wrapper took 1.0029 seconds\n"
     ]
    },
    {
     "name": "stdout",
     "output_type": "stream",
     "text": [
      "7\n"
     ]
    }
   ],
   "source": [
    "@timer\n",
    "@log_args\n",
    "def process_data(x, y):\n",
    "  time.sleep(1)\n",
    "  return x + y\n",
    "\n",
    "print(process_data(3, 4))"
   ]
  },
  {
   "cell_type": "markdown",
   "id": "30e9747f",
   "metadata": {
    "jupyter": {
     "source_hidden": false
    }
   },
   "source": [
    "## Decorators with arguments"
   ]
  },
  {
   "cell_type": "code",
   "execution_count": 7,
   "id": "57e0d7ff",
   "metadata": {
    "collapsed": false,
    "jupyter": {
     "outputs_hidden": false,
     "source_hidden": false
    }
   },
   "outputs": [
    {
     "name": "stdout",
     "output_type": "stream",
     "text": [
      "Sent to abc@xyz.com\n"
     ]
    },
    {
     "name": "stdout",
     "output_type": "stream",
     "text": [
      "send_sms with ('+1234567890', 'Hello')\n"
     ]
    },
    {
     "name": "stdout",
     "output_type": "stream",
     "text": [
      "Sent to +1234567890\n"
     ]
    }
   ],
   "source": [
    "def conditional_log(enabled=True):\n",
    "  def decorator(func):\n",
    "    def wrapper(*args, **kwargs):\n",
    "      if enabled:\n",
    "        print(f\"{func.__name__} with {args}\")\n",
    "      return func(*args, **kwargs)\n",
    "    return wrapper\n",
    "  return decorator\n",
    "\n",
    "@conditional_log(enabled=False)\n",
    "def send_email(to, msg):\n",
    "  return f\"Sent to {to}\"\n",
    "\n",
    "@conditional_log(enabled=True)\n",
    "def send_sms(to, msg):\n",
    "  return f\"Sent to {to}\"\n",
    "\n",
    "print(send_email('abc@xyz.com', 'Hello'))\n",
    "print(send_sms('+1234567890', 'Hello'))"
   ]
  },
  {
   "cell_type": "markdown",
   "id": "92010d1f",
   "metadata": {
    "jupyter": {
     "source_hidden": false
    }
   },
   "source": [
    "## Class-Based Decorators: My Favorite Trick\n",
    "\n",
    "You can even use classes as decorators if you want to maintain state."
   ]
  },
  {
   "cell_type": "code",
   "execution_count": 13,
   "id": "dcbca377",
   "metadata": {
    "collapsed": false,
    "jupyter": {
     "outputs_hidden": false,
     "source_hidden": false
    }
   },
   "outputs": [
    {
     "name": "stdout",
     "output_type": "stream",
     "text": [
      "Call 1 to greet\n"
     ]
    },
    {
     "name": "stdout",
     "output_type": "stream",
     "text": [
      "Hello Alice\n"
     ]
    },
    {
     "name": "stdout",
     "output_type": "stream",
     "text": [
      "Call 2 to greet\n"
     ]
    },
    {
     "name": "stdout",
     "output_type": "stream",
     "text": [
      "Hello Bob\n"
     ]
    },
    {
     "name": "stdout",
     "output_type": "stream",
     "text": [
      "2\n"
     ]
    }
   ],
   "source": [
    "class CountCalls:\n",
    "  def __init__(self, func):\n",
    "    self.func = func\n",
    "    self.counter = 0\n",
    "\n",
    "  def __call__(self, *args, **kwargs):\n",
    "    self.counter += 1\n",
    "    print(f\"Call {self.counter} to {self.func.__name__}\")\n",
    "    return self.func(*args, **kwargs)\n",
    "\n",
    "@CountCalls\n",
    "def greet(name):\n",
    "  return f\"Hello {name}\"\n",
    "\n",
    "print(greet(\"Alice\"))\n",
    "print(greet(\"Bob\"))\n",
    "print(greet.counter)"
   ]
  },
  {
   "cell_type": "markdown",
   "id": "e6fdcbf1",
   "metadata": {
    "jupyter": {
     "source_hidden": false
    }
   },
   "source": [
    "## Nesting, Currying, and Returning Functions\n",
    "\n",
    "You can use decorators to return new functions dynamically.\n",
    "\n",
    "Example: a decorator that returns different logic based on arguments."
   ]
  },
  {
   "cell_type": "code",
   "execution_count": 14,
   "id": "c17fb303",
   "metadata": {
    "collapsed": false,
    "jupyter": {
     "outputs_hidden": false,
     "source_hidden": false
    }
   },
   "outputs": [
    {
     "name": "stdout",
     "output_type": "stream",
     "text": [
      "[1, 4, 9]\n"
     ]
    }
   ],
   "source": [
    "def math_operation(op):\n",
    "  def decorator(func):\n",
    "    def wrapper(*args):\n",
    "      if op == \"square\":\n",
    "        return [x ** 2 for x in args]\n",
    "      elif op == \"double\":\n",
    "        return [x * 2 for x in args]\n",
    "      return func(*args)\n",
    "    return wrapper\n",
    "  return decorator\n",
    "\n",
    "@math_operation(\"square\")\n",
    "def process_numbers(*args):\n",
    "  return args\n",
    "\n",
    "print(process_numbers(1, 2, 3))"
   ]
  },
  {
   "cell_type": "markdown",
   "id": "df8bcf48",
   "metadata": {
    "jupyter": {
     "source_hidden": false
    }
   },
   "source": [
    "## Timing + Logging + Retry"
   ]
  },
  {
   "cell_type": "code",
   "execution_count": 15,
   "id": "47bd2173",
   "metadata": {
    "collapsed": false,
    "jupyter": {
     "outputs_hidden": false,
     "source_hidden": false
    }
   },
   "outputs": [
    {
     "name": "stdout",
     "output_type": "stream",
     "text": [
      "risky_operation called with () and {}\n"
     ]
    },
    {
     "name": "stdout",
     "output_type": "stream",
     "text": [
      "Error: Boom, retrying 1/2\n"
     ]
    },
    {
     "name": "stdout",
     "output_type": "stream",
     "text": [
      "risky_operation called with () and {}\n"
     ]
    },
    {
     "name": "stdout",
     "output_type": "stream",
     "text": [
      "Error: Boom, retrying 2/2\n"
     ]
    },
    {
     "data": {
      "text/plain": [
       "'Failed after retries'"
      ]
     },
     "execution_count": 15,
     "metadata": {},
     "output_type": "execute_result"
    }
   ],
   "source": [
    "from functools import wraps\n",
    "import time\n",
    "\n",
    "def retry(times=3, delay=1):\n",
    "  def decorator(func):\n",
    "    @wraps(func)\n",
    "    def wrapper(*args, **kwargs):\n",
    "      for i in range(times):\n",
    "        try:\n",
    "          return func(*args, **kwargs)\n",
    "        except Exception as e:\n",
    "          print(f\"Error: {e}, retrying {i+1}/{times}\")\n",
    "          time.sleep(delay)\n",
    "      return \"Failed after retries\"\n",
    "    return wrapper\n",
    "  return decorator\n",
    "\n",
    "@retry(times=2, delay=2)\n",
    "@timer\n",
    "@log_args\n",
    "def risky_operation():\n",
    "  raise ValueError(\"Boom\")\n",
    "\n",
    "risky_operation()"
   ]
  }
 ],
 "metadata": {
  "kernelspec": {
   "display_name": "Local Python",
   "language": "python",
   "name": "local-python"
  },
  "language_info": {
   "codemirror_mode": {
    "name": "python",
    "version": 3
   },
   "file_extension": ".py",
   "mimetype": "text/x-python",
   "name": "python",
   "nbconvert_exporter": "python",
   "pygments_lexer": "python3",
   "version": "3.12.2"
  },
  "widgets": {
   "application/vnd.jupyter.widget-state+json": {
    "state": {},
    "version_major": 2,
    "version_minor": 0
   }
  }
 },
 "nbformat": 4,
 "nbformat_minor": 5
}
