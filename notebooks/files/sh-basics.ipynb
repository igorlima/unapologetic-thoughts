{
 "cells": [
  {
   "cell_type": "markdown",
   "execution_count": 0,
   "id": "1da815da",
   "metadata": {
    "jupyter": {
     "source_hidden": false
    }
   },
   "source": [
    "# BASH\n",
    "\n",
    "A Jupyter kernel for bash: [github repo](https://github.com/takluyver/bash_kernel).\n",
    "Other available Jupyter kernels can be found [here](https://github.com/jupyter/jupyter/wiki/Jupyter-kernels)\n",
    "\n",
    "```sh\n",
    "pip3 install bash_kernel --break-system-packages\n",
    "python3 -m bash_kernel.install\n",
    "```"
   ]
  },
  {
   "cell_type": "code",
   "execution_count": 1,
   "id": "238f1fe3",
   "metadata": {
    "collapsed": false,
    "jupyter": {
     "outputs_hidden": false,
     "source_hidden": false
    }
   },
   "outputs": [
    {
     "name": "stdout",
     "output_type": "stream",
     "text": [
      "discordo.md\t\t\tREADME.md\n"
     ]
    },
    {
     "name": "stdout",
     "output_type": "stream",
     "text": [
      "euporie.jupyter-terminal.md\ttmp-env\n"
     ]
    },
    {
     "name": "stdout",
     "output_type": "stream",
     "text": [
      "lue.ebook-reader.md\n"
     ]
    }
   ],
   "source": [
    "ls"
   ]
  },
  {
   "cell_type": "markdown",
   "id": "3fba8389",
   "metadata": {
    "collapsed": false,
    "jupyter": {
     "outputs_hidden": false,
     "source_hidden": false
    }
   },
   "source": [
    "## Function"
   ]
  },
  {
   "cell_type": "markdown",
   "id": "89e27a87",
   "metadata": {
    "jupyter": {
     "source_hidden": false
    }
   },
   "source": [
    "### Checking if a bash function argument is Empty\n",
    "\n",
    "In Bash, you can check if a function argument is empty using several methods:\n",
    "- method 1: Using -z test operator\n",
    "- method 2: Direct string comparison\n",
    "- method 3: Using parameter expansion with default value test\n",
    "- method 4: Check if argument count is sufficient\n",
    "\n",
    "The `-z` test operator (Method 1) is the most common and recommended approach as it specifically tests if the string length is zero."
   ]
  },
  {
   "cell_type": "code",
   "execution_count": 1,
   "id": "2426c6d7",
   "metadata": {
    "collapsed": false,
    "jupyter": {
     "outputs_hidden": false,
     "source_hidden": false
    }
   },
   "outputs": [
    {
     "name": "stdout",
     "output_type": "stream",
     "text": [
      "First argument is empty or not provided\n"
     ]
    },
    {
     "name": "stdout",
     "output_type": "stream",
     "text": [
      "First argument is: Hello\n"
     ]
    }
   ],
   "source": [
    "# Method 1: Using -z test operator\n",
    "my_function() {\n",
    "  if [ -z \"$1\" ]; then\n",
    "    echo \"First argument is empty or not provided\"\n",
    "  else\n",
    "    echo \"First argument is: $1\"\n",
    "  fi\n",
    "}\n",
    "\n",
    "my_function\n",
    "my_function \"Hello\""
   ]
  },
  {
   "cell_type": "code",
   "execution_count": 2,
   "id": "35f4791c",
   "metadata": {
    "collapsed": false,
    "jupyter": {
     "outputs_hidden": false,
     "source_hidden": false
    }
   },
   "outputs": [
    {
     "name": "stdout",
     "output_type": "stream",
     "text": [
      "First argument is empty\n"
     ]
    },
    {
     "name": "stdout",
     "output_type": "stream",
     "text": [
      "First argument is: Hello\n"
     ]
    }
   ],
   "source": [
    "# Method 2: Direct string comparison\n",
    "my_function() {\n",
    "  if [ \"$1\" = \"\" ]; then\n",
    "    echo \"First argument is empty\"\n",
    "  else\n",
    "    echo \"First argument is: $1\"\n",
    "  fi\n",
    "}\n",
    "\n",
    "my_function\n",
    "my_function \"Hello\""
   ]
  },
  {
   "cell_type": "code",
   "execution_count": 3,
   "id": "00c1699e",
   "metadata": {
    "collapsed": false,
    "jupyter": {
     "outputs_hidden": false,
     "source_hidden": false
    }
   },
   "outputs": [
    {
     "name": "stdout",
     "output_type": "stream",
     "text": [
      "First argument is empty or not provided\n"
     ]
    },
    {
     "name": "stdout",
     "output_type": "stream",
     "text": [
      "First argument is: Hello\n"
     ]
    }
   ],
   "source": [
    "# Method 3: Using parameter expansion with default value test\n",
    "my_function() {\n",
    "  if [ \"${1:-}\" = \"\" ]; then\n",
    "    echo \"First argument is empty or not provided\"\n",
    "  else\n",
    "    echo \"First argument is: $1\"\n",
    "  fi\n",
    "}\n",
    "my_function\n",
    "my_function \"Hello\""
   ]
  },
  {
   "cell_type": "code",
   "execution_count": 4,
   "id": "189eba3e",
   "metadata": {
    "collapsed": false,
    "jupyter": {
     "outputs_hidden": false,
     "source_hidden": false
    }
   },
   "outputs": [
    {
     "name": "stdout",
     "output_type": "stream",
     "text": [
      "Not enough arguments provided\n"
     ]
    },
    {
     "name": "stdout",
     "output_type": "stream",
     "text": [
      "First argument is: Hello\n"
     ]
    }
   ],
   "source": [
    "# Method 4: Check if argument count is sufficient\n",
    "my_function() {\n",
    "  if [ $# -lt 1 ]; then\n",
    "    echo \"Not enough arguments provided\"\n",
    "  else\n",
    "    echo \"First argument is: $1\"\n",
    "  fi\n",
    "}\n",
    "my_function\n",
    "my_function \"Hello\""
   ]
  }
 ],
 "metadata": {
  "kernelspec": {
   "display_name": "Bash",
   "language": "bash",
   "name": "bash"
  },
  "language_info": {
   "codemirror_mode": "shell",
   "file_extension": ".sh",
   "mimetype": "text/x-sh",
   "name": "bash"
  },
  "widgets": {
   "application/vnd.jupyter.widget-state+json": {
    "state": {},
    "version_major": 2,
    "version_minor": 0
   }
  }
 },
 "nbformat": 4,
 "nbformat_minor": 5
}
