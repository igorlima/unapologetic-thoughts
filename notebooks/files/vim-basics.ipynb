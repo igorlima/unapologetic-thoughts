{
 "cells": [
  {
   "cell_type": "markdown",
   "id": "bdaded4d",
   "metadata": {
    "jupyter": {
     "source_hidden": false
    }
   },
   "source": [
    "# VIM\n",
    "\n",
    "A Jupyter kernel for Vim script: [github repo](https://github.com/mattn/vim_kernel).\n",
    "Other available Jupyter kernels can be found [here](https://github.com/jupyter/jupyter/wiki/Jupyter-kernels)\n",
    "\n",
    "```sh\n",
    "pip3 install vim-kernel --break-system-packages\n",
    "python3 -m vim_kernel.install\n",
    "```\n",
    "\n",
    "## Variable Scopes in Vimscript\n",
    "\n",
    "Vimscript uses various prefixes to define the scope of variables:\n",
    "- `g`: _(global)_: variables accessible from anywhere.\n",
    "- `b`: _(buffer)_: variables local to the current buffer.\n",
    "- `w`: _(window)_: variables local to the current window.\n",
    "- `t`: _(tab page)_: variables local to the current tab page.\n",
    "- `l`: _(function local)_: variables local to a function.\n",
    "- `s`: _(script local)_: variables local to a specific Vimscript file.\n",
    "- `a`: _(function argument)_: formal parameters within a function.\n",
    "- `v`: _(vim built-in)_: predefined Vim variables.\n",
    "- `env`: _(environment)_: environment variables."
   ]
  },
  {
   "cell_type": "markdown",
   "id": "0e6493c0",
   "metadata": {
    "jupyter": {
     "source_hidden": false
    }
   },
   "source": [
    "## Function"
   ]
  },
  {
   "cell_type": "code",
   "execution_count": 0,
   "id": "c952b144",
   "metadata": {
    "collapsed": false,
    "jupyter": {
     "outputs_hidden": false,
     "source_hidden": false
    }
   },
   "outputs": [
    {
     "name": "stdout",
     "output_type": "stream",
     "text": [
      "Tasty"
     ]
    }
   ],
   "source": [
    "function s:tasty()\n",
    "  echo \"Tasty\"\n",
    "endfunction\n",
    "call s:tasty()"
   ]
  },
  {
   "cell_type": "code",
   "execution_count": 2,
   "id": "b04f82e0",
   "metadata": {
    "collapsed": false,
    "jupyter": {
     "outputs_hidden": false,
     "source_hidden": false
    }
   },
   "outputs": [
    {
     "name": "stdout",
     "output_type": "stream",
     "text": [
      "Yummy in my tummy"
     ]
    }
   ],
   "source": [
    "function Yummy()\n",
    "  let location = \"tummy\"\n",
    "  return \"Yummy in my \" . location\n",
    "endfunction\n",
    "\n",
    "echo Yummy()"
   ]
  }
 ],
 "metadata": {
  "kernelspec": {
   "display_name": "Vim",
   "language": "",
   "name": "vim_kernel"
  },
  "language_info": {
   "file_extension": ".vim",
   "mimetype": "text/plain",
   "name": "vim"
  },
  "widgets": {
   "application/vnd.jupyter.widget-state+json": {
    "state": {},
    "version_major": 2,
    "version_minor": 0
   }
  }
 },
 "nbformat": 4,
 "nbformat_minor": 5
}
