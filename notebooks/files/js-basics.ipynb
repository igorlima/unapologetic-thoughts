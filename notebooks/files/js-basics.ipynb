{
 "cells": [
  {
   "cell_type": "markdown",
   "id": "f0b8e9cc",
   "metadata": {
    "jupyter": {
     "source_hidden": false
    }
   },
   "source": [
    "# JavaScript Basic"
   ]
  },
  {
   "cell_type": "code",
   "execution_count": 2,
   "id": "af139ebb",
   "metadata": {
    "collapsed": false,
    "jupyter": {
     "outputs_hidden": false,
     "source_hidden": false
    }
   },
   "outputs": [
    {
     "name": "stdout",
     "output_type": "stream",
     "text": [
      "3\n"
     ]
    }
   ],
   "source": [
    "const a = 1\n",
    "const b = 2\n",
    "console.log(a+b)"
   ]
  }
 ],
 "metadata": {
  "kernelspec": {
   "display_name": "JavaScript (Node.js)",
   "language": "javascript",
   "name": "javascript"
  },
  "language_info": {
   "file_extension": ".js",
   "mimetype": "application/javascript",
   "name": "javascript",
   "version": "18.12.1"
  },
  "widgets": {
   "application/vnd.jupyter.widget-state+json": {
    "state": {},
    "version_major": 2,
    "version_minor": 0
   }
  }
 },
 "nbformat": 4,
 "nbformat_minor": 5
}
