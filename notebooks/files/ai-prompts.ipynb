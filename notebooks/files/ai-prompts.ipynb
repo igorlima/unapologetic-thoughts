{
 "cells": [
  {
   "cell_type": "markdown",
   "id": "4581b95f-ee6f-46ee-ba6d-75e61f6db310",
   "metadata": {},
   "source": [
    "# AI Prompts\n",
    "\n",
    "- re-render Markdown preview after an edition:\n",
    "  - __\"Activate Command Pallete\"__ by pressing `Ctrl+Shift+C`\n",
    "    - _it's also located under the menu \"View\"_\n",
    "  - type __\"Render All Markdown Cells\"__\n",
    "  - press `Enter`\n",
    "\n"
   ]
  },
  {
   "cell_type": "markdown",
   "id": "07fc8987-e773-42a2-8554-4ff6bec0e258",
   "metadata": {
    "jp-MarkdownHeadingCollapsed": true
   },
   "source": [
    "## Info"
   ]
  },
  {
   "cell_type": "markdown",
   "id": "12c15ee4-5757-4fe5-a84e-aaff8247795b",
   "metadata": {},
   "source": [
    "\n",
    "- How to Create a Virtual Environment and Use it on Jupyter Notebook\n",
    "  - https://towardsdatascience.com/how-to-create-a-virtual-environment-and-use-it-on-jupyter-notebook-6c0b7b1cfca0\n",
    "  - https://medium.com/@kishanck/virtual-environments-for-jupyter-notebooks-847b7a3b4da0"
   ]
  },
  {
   "cell_type": "markdown",
   "id": "4ae0fbe7-7848-40fb-a950-4ee1f2c715ae",
   "metadata": {},
   "source": [
    "### Using passwords in Jupyter notebooks\n",
    "\n",
    "In Python you can ask the user for input via the `input` function.\n",
    "```python\n",
    "pwd = input(\"Password:\")\n",
    "```\n",
    "\n",
    "When you run this command locally, here's what it might look like:\n",
    "\n",
    "```\n",
    ">>> pwd = input(\"Password:\")\n",
    "Password: supersecret\n",
    "```\n",
    "\n",
    "The `pwd` variable will contain the string \"supersecret\", but notice how the command prompt actually shows what the user is typing! That means that somebody who is sitting next to you, or looking at your screen over zoom, also can read your password! That's bad.\n",
    "\n",
    "#### getpass\n",
    "\n",
    "For situations like this one, you may enjoy using the getpass module in Python instead. It has the same functionality but won't display the typed password.\n",
    "\n",
    "```\n",
    ">>> import getpass\n",
    ">>> pwd = getpass.getpass(\"give password\")\n",
    "Password:🗝️\n",
    "```\n",
    "\n",
    "No matter what you type, it won't be printed.\n"
   ]
  },
  {
   "cell_type": "markdown",
   "id": "08bf2730-0609-46df-bd59-375c58317329",
   "metadata": {
    "jp-MarkdownHeadingCollapsed": true
   },
   "source": [
    "## Prompts"
   ]
  },
  {
   "cell_type": "markdown",
   "id": "3bb3df19-c1b6-48d8-be0f-c10cc5e9dc5e",
   "metadata": {},
   "source": [
    "..."
   ]
  },
  {
   "cell_type": "markdown",
   "id": "18eccae4-09ea-42db-b8a1-ed3d7ac2253e",
   "metadata": {},
   "source": [
    "## Gemini"
   ]
  },
  {
   "cell_type": "markdown",
   "id": "75f97c55-251f-4893-8342-062bf7bf9e65",
   "metadata": {
    "jp-MarkdownHeadingCollapsed": true
   },
   "source": [
    "### setup"
   ]
  },
  {
   "cell_type": "code",
   "execution_count": 25,
   "id": "7cabad1f-e4f7-45e1-8d93-a6c3ef886d3e",
   "metadata": {},
   "outputs": [
    {
     "name": "stdin",
     "output_type": "stream",
     "text": [
      "enter GOOGLE_API_KEY:  ········\n"
     ]
    }
   ],
   "source": [
    "import os\n",
    "import getpass\n",
    "os.environ['GOOGLE_API_KEY'] = getpass.getpass(\"enter GOOGLE_API_KEY: \")\n",
    "# %env"
   ]
  },
  {
   "cell_type": "code",
   "execution_count": 31,
   "id": "3980015e-b849-4bd0-8115-3bab1af7df53",
   "metadata": {},
   "outputs": [],
   "source": [
    "# pip3 install -I google-generativeai==0.5.2\n",
    "# pip3 install --upgrade --force-reinstall google-generativeai\n",
    "# pip3 show google-generativeai\n",
    "# pip3 index versions google-generativeai\n",
    "\n",
    "# Overview of Generative AI on Vertex AI:\n",
    "# https://cloud.google.com/vertex-ai/generative-ai/docs/learn/overview\n",
    "# Google Gemini Documentation:\n",
    "# https://github.com/google/generative-ai-docs?tab=readme-ov-file\n",
    "\n",
    "import google.generativeai as genai\n",
    "import google.ai.generativelanguage as glm\n",
    "import os\n",
    "\n",
    "GOOGLE_API_KEY=os.environ.get(\"GOOGLE_API_KEY\")\n",
    "genai.configure(api_key=GOOGLE_API_KEY)"
   ]
  },
  {
   "cell_type": "markdown",
   "id": "46c27937-9d61-4df5-b765-e574995d52f8",
   "metadata": {},
   "source": [
    "### playground"
   ]
  },
  {
   "cell_type": "code",
   "execution_count": 30,
   "id": "8e9ddb07-611d-434b-bcde-aa92d5fafa16",
   "metadata": {},
   "outputs": [
    {
     "name": "stdout",
     "output_type": "stream",
     "text": [
      "I am a multimodal AI language model developed by Google. I don't have a personal name.\n"
     ]
    }
   ],
   "source": [
    "CONTEXT = None\n",
    "PROMPT = \"\"\"\n",
    "What's your name?\n",
    "\"\"\"\n",
    "\n",
    "prompt = PROMPT\n",
    "model = genai.GenerativeModel('gemini-pro')\n",
    "# response = model.generate_content(prompt)\n",
    "response = model.generate_content(glm.Content(\n",
    "  parts = [\n",
    "    glm.Part(text=prompt),\n",
    "    glm.Part(text=CONTEXT if CONTEXT is not None else ''),\n",
    "  ],\n",
    "))\n",
    "print(response.parts[0].text)"
   ]
  }
 ],
 "metadata": {
  "kernelspec": {
   "display_name": "Python 3 (ipykernel)",
   "language": "python",
   "name": "python3"
  },
  "language_info": {
   "codemirror_mode": {
    "name": "ipython",
    "version": 3
   },
   "file_extension": ".py",
   "mimetype": "text/x-python",
   "name": "python",
   "nbconvert_exporter": "python",
   "pygments_lexer": "ipython3",
   "version": "3.12.2"
  }
 },
 "nbformat": 4,
 "nbformat_minor": 5
}
