{
 "cells": [
  {
   "cell_type": "markdown",
   "execution_count": 0,
   "id": "f6b5b3d6",
   "metadata": {
    "jupyter": {
     "source_hidden": false
    }
   },
   "source": [
    "# Regular Expressions\n",
    "\n",
    "Regular expressions are sequences of characters that define search patterns.\n",
    "They can be used for a variety of tasks, such as searching, editing, and manipulating text.\n",
    "\n",
    "## Basic components of regex\n",
    "\n",
    "### Literals\n",
    "Literals are the simplest form of regex patterns because they match the exact characters in a search string.\n",
    "For example, if you want to Knd the exact word \"cat \" in the text \"The cat sat on the mat \", you'll have to use a literal that matches the pattern cat .\n",
    "\n",
    "### Metacharacters\n",
    "In regular expressions, metacharacters are symbols with special meanings and purposes:\n",
    "- `.` matches any character, except on a new line.\n",
    "- `^` matches the start of a string.\n",
    "- `$` matches the end of a string.\n",
    "- `*` matches 0 or more repetitions of the preceding element.\n",
    "- `+` matches 1 or more repetitions of the preceding element.\n",
    "- `?` matches 0 or 1 repetition of the preceding element.\n",
    "- `{}` matches a specificc number of repetitions of the preceding element.\n",
    "\n",
    "### Character Classes\n",
    "Character classes match any character inside a given set. Common examples are:\n",
    "- `[abc]`: matches any of the characters a, b, or c.\n",
    "- `\\d` matches any digit (equivalent to [0-9]).\n",
    "- `\\w` matches any word character (alphanumeric plus underscore).\n",
    "- `\\s` matches any whitespace character.\n",
    "\n",
    "### Quantifiers\n",
    "Quantifiers specify the number of a character's or group's occurrences:\n",
    "- `*`: 0 or more.\n",
    "- `+`: 1 or more.\n",
    "- `?`: 0 or 1.\n",
    "- `{n}`: Exactly n.\n",
    "- `{n,}`: n or more.\n",
    "- `{n,m}`: Between n and m."
   ]
  },
  {
   "cell_type": "markdown",
   "id": "9112e847",
   "metadata": {
    "jupyter": {
     "source_hidden": false
    }
   },
   "source": [
    "## When to use each function\n",
    "\n",
    "`re.match()`, `re.search()`, and `re.findall()` are similar.\n",
    "So when should we use one over the other?\n",
    "- `re.search()` searches for the Krst place where the pattern matches a string.\n",
    "  Use it when you need to find the Krst occurrence of a pattern in a string,\n",
    "  regardless of where it is.\n",
    "- `re.match()` searches for a match only at the beginning of a string. Use it\n",
    "  to check if a string starts with a certain pattern.\n",
    "- `re.findall()` finds all matches of a pattern in a string and returns them as\n",
    "  a list of strings. Use it when you need to find all pattern occurrences in a\n",
    "  string."
   ]
  },
  {
   "cell_type": "code",
   "execution_count": 4,
   "id": "78686617",
   "metadata": {
    "collapsed": false,
    "jupyter": {
     "outputs_hidden": false,
     "source_hidden": false
    }
   },
   "outputs": [
    {
     "name": "stdout",
     "output_type": "stream",
     "text": [
      "123\n"
     ]
    }
   ],
   "source": [
    "# the `re.search()` function\n",
    "# the `re.search()` function searches for the Krst match of the regex pattern in a string.\n",
    "import re\n",
    "# define the pattern\n",
    "pattern = r\"\\d+\"\n",
    "# define the text to analyze\n",
    "text = \"There are 123 apples.\"\n",
    "# apply the regex\n",
    "match = re.search(pattern, text)\n",
    "print(match.group())"
   ]
  },
  {
   "cell_type": "code",
   "execution_count": 5,
   "id": "71e28f46",
   "metadata": {
    "collapsed": false,
    "jupyter": {
     "outputs_hidden": false,
     "source_hidden": false
    }
   },
   "outputs": [
    {
     "name": "stdout",
     "output_type": "stream",
     "text": [
      "None\n"
     ]
    }
   ],
   "source": [
    "# the `re.match()` function\n",
    "# The `re.match()` function checks for a match only at the beginning of a string.\n",
    "import re\n",
    "# define the pattern\n",
    "pattern = r\"\\d+\"\n",
    "# define the text to analyze\n",
    "text = \"There are 123 apples.\"\n",
    "# apply the regex\n",
    "match = re.match(pattern, text)\n",
    "print(match)"
   ]
  },
  {
   "cell_type": "code",
   "execution_count": 6,
   "id": "db321ebb",
   "metadata": {
    "collapsed": false,
    "jupyter": {
     "outputs_hidden": false,
     "source_hidden": false
    }
   },
   "outputs": [
    {
     "name": "stdout",
     "output_type": "stream",
     "text": [
      "['123', '2']\n"
     ]
    }
   ],
   "source": [
    "# the `re.findall()` function\n",
    "# the `re.findall()` function Knds all matches of the regex pattern in a string, returning the output in a list.\n",
    "import re\n",
    "pattern = r\"\\d+\"\n",
    "text = \"There are 123 apples in 2 trees.\"\n",
    "matches = re.findall(pattern, text)\n",
    "print(matches)"
   ]
  },
  {
   "cell_type": "code",
   "execution_count": 9,
   "id": "69af6965",
   "metadata": {
    "collapsed": false,
    "jupyter": {
     "outputs_hidden": false,
     "source_hidden": false
    }
   },
   "outputs": [
    {
     "name": "stdout",
     "output_type": "stream",
     "text": [
      "There are many apples.\n"
     ]
    },
    {
     "name": "stdout",
     "output_type": "stream",
     "text": [
      "There are many apples in many trees.\n"
     ]
    }
   ],
   "source": [
    "# the `re.sub()` function\n",
    "# the `re.sub()` function replaces a matched regex pattern with a replacement string.\n",
    "import re\n",
    "# define the pattern\n",
    "pattern = r\"\\d+\"\n",
    "# define the text to analyze\n",
    "text = \"There are 123 apples.\"\n",
    "# apply the regex\n",
    "replaced_text = re.sub(pattern, \"many\", text)\n",
    "print(replaced_text)\n",
    "\n",
    "# Note that the `re.sub()` function applies to all the matches it finds.\n",
    "# So, for example, the following code sample: \n",
    "import re\n",
    "# define the pattern\n",
    "pattern = r\"\\d+\"\n",
    "# define the text to analyze\n",
    "text = \"There are 123 apples in 3 trees.\"\n",
    "# apply the regex\n",
    "replaced_text = re.sub(pattern, \"many\", text)\n",
    "print(replaced_text)"
   ]
  },
  {
   "cell_type": "markdown",
   "id": "ff004ec4",
   "metadata": {
    "jupyter": {
     "source_hidden": false
    }
   },
   "source": [
    "## Advanced Regex\n"
   ]
  },
  {
   "cell_type": "markdown",
   "id": "d6df3975",
   "metadata": {
    "jupyter": {
     "source_hidden": false
    }
   },
   "source": [
    "### Lookaheads and Lookbehinds\n",
    "\n",
    "Lookaheads and lookbehinds are types of zero-width assertions that match a position in a string based on what precedes or follows it (without including the preceding or following elements in the match itself).\n",
    "\n",
    "A lookahead asserts that a certain pattern must follow the current position in the string but does not include this pattern in the matched result.\n",
    "\n",
    "A lookbehind, on the other hand, asserts that a certain pattern must precede the current position in the string, but does not include this pattern in the matched result.\n"
   ]
  },
  {
   "cell_type": "code",
   "execution_count": 10,
   "id": "1ad2934b",
   "metadata": {
    "collapsed": false,
    "jupyter": {
     "outputs_hidden": false,
     "source_hidden": false
    }
   },
   "outputs": [
    {
     "name": "stdout",
     "output_type": "stream",
     "text": [
      "['test', 'test']\n"
     ]
    }
   ],
   "source": [
    "# LOOKAHEAD\n",
    "# match sequences of one or more word characters immediately followed by a period\n",
    "# `(?=\\.)` is a positive lookahead asserting that the word characters must be followed by a period.\n",
    "# `(?!...)` is a negative lookahead that states that what follows the current position does not match the speciKed pattern.\n",
    "import re\n",
    "pattern = r\"\\w+(?=\\.)\"\n",
    "text = \"This is a test. Followed by another test.\"\n",
    "matches = re.findall(pattern, text)\n",
    "print(matches)"
   ]
  },
  {
   "cell_type": "code",
   "execution_count": 11,
   "id": "1d63dd87",
   "metadata": {
    "collapsed": false,
    "jupyter": {
     "outputs_hidden": false,
     "source_hidden": false
    }
   },
   "outputs": [
    {
     "name": "stdout",
     "output_type": "stream",
     "text": [
      "['is', 'a', 'test', 'Followed', 'by', 'another', 'test']\n"
     ]
    }
   ],
   "source": [
    "# LOOKBEHIND\n",
    "# match one or more word characters immediately preceded by a whitespace character\n",
    "# `(?<=\\s)` is a positive lookbehind asserting that the current position in the string must be preceded by a whitespace character, such as a space, tab, or new line. \n",
    "import re\n",
    "pattern = r\"(?<=\\s)\\w+\"\n",
    "text = \"This is a test. Followed by another test.\"\n",
    "matches = re.findall(pattern, text)\n",
    "print(matches)"
   ]
  },
  {
   "cell_type": "markdown",
   "id": "bdf1e72a",
   "metadata": {
    "jupyter": {
     "source_hidden": false
    }
   },
   "source": [
    "### Non-capturing Groups\n",
    "\n",
    "Non-capturing groups _(syntax: `(?:...)`)_ are used to group parts of a pattern are used to group parts of a pattern.\n"
   ]
  },
  {
   "cell_type": "code",
   "execution_count": 12,
   "id": "e13bdd7d",
   "metadata": {
    "collapsed": false,
    "jupyter": {
     "outputs_hidden": false,
     "source_hidden": false
    }
   },
   "outputs": [
    {
     "name": "stdout",
     "output_type": "stream",
     "text": [
      "45\n"
     ]
    }
   ],
   "source": [
    "# NON-CAPTURING GROUPS\n",
    "# `(?:\\d{3})` is a non-capturing group that matches exactly three digits.\n",
    "import re\n",
    "pattern = r\"(?:\\d{3})-(\\d{2})-(\\d{4})\"\n",
    "text = \"123-45-6789\"\n",
    "match = re.search(pattern, text)\n",
    "print(match.group(1))"
   ]
  },
  {
   "cell_type": "markdown",
   "id": "4f62524d",
   "metadata": {
    "jupyter": {
     "source_hidden": false
    }
   },
   "source": [
    "## Performance Considerations\n"
   ]
  },
  {
   "cell_type": "markdown",
   "id": "2235ba73",
   "metadata": {
    "jupyter": {
     "source_hidden": false
    }
   },
   "source": [
    "### Avoid Recompiling Patterns"
   ]
  },
  {
   "cell_type": "code",
   "execution_count": 6,
   "id": "e3110f6a",
   "metadata": {
    "collapsed": false,
    "jupyter": {
     "outputs_hidden": false,
     "source_hidden": false
    }
   },
   "outputs": [
    {
     "name": "stdout",
     "output_type": "stream",
     "text": [
      "without compile: 0.0437, with compile: 0.0132\n"
     ]
    }
   ],
   "source": [
    "import re\n",
    "import time\n",
    "\n",
    "# Sample texts\n",
    "texts = [\"123\", \"abc 456\", \"def 789 ghi\"] * 10000\n",
    "\n",
    "# Pattern without compiling\n",
    "pattern1 = r\"\\d+\"\n",
    "start_time = time.time()\n",
    "for text in texts:\n",
    "  match = re.search(pattern1, text)\n",
    "end_time = time.time()\n",
    "time_without_compile = end_time - start_time\n",
    "\n",
    "# Compiling the pattern\n",
    "pattern2 = re.compile(r\"\\d+\")\n",
    "start_time = time.time()\n",
    "for text in texts:\n",
    "  match = pattern2.search(text)\n",
    "end_time = time.time()\n",
    "time_with_compile = end_time - start_time\n",
    "\n",
    "print(f\"without compile:{time_without_compile: .3}, with compile:{time_with_compile: .3}\")"
   ]
  },
  {
   "cell_type": "markdown",
   "id": "2f4c577b",
   "metadata": {
    "jupyter": {
     "source_hidden": false
    }
   },
   "source": [
    "### Use Specific Patterns"
   ]
  },
  {
   "cell_type": "code",
   "execution_count": 7,
   "id": "d8cdfe49",
   "metadata": {
    "collapsed": false,
    "jupyter": {
     "outputs_hidden": false,
     "source_hidden": false
    }
   },
   "outputs": [
    {
     "name": "stdout",
     "output_type": "stream",
     "text": [
      "time with not efficient pattern:  0.186, time with efficient pattern:  0.125\n"
     ]
    }
   ],
   "source": [
    "import re\n",
    "import time\n",
    "\n",
    "# Sample texts\n",
    "texts = [\"abc123xyz\", \"123\", \"a123b\", \"x123y\", \"nonumber\", \"123\", \"test\"] * 50000\n",
    "\n",
    "# Less efficient pattern\n",
    "pattern1 = r\".*123.*\"\n",
    "start_time = time.time()\n",
    "for text in texts:\n",
    "    match = re.search(pattern1, text)\n",
    "end_time = time.time()\n",
    "time_with_less_efficient_pattern = end_time - start_time\n",
    "\n",
    "# More efficient pattern\n",
    "pattern2 = r\"\\b123\\b\"\n",
    "start_time = time.time()\n",
    "for text in texts:\n",
    "    match = re.search(pattern2, text)\n",
    "end_time = time.time()\n",
    "time_with_more_efficient_pattern = end_time - start_time\n",
    "\n",
    "print(f\"time with not efficient pattern: {time_with_less_efficient_pattern: .3}, time with efficient pattern: {time_with_more_efficient_pattern: .3}\")\n"
   ]
  },
  {
   "cell_type": "markdown",
   "id": "6527c286",
   "metadata": {
    "jupyter": {
     "source_hidden": false
    }
   },
   "source": [
    "### Always Use Raw Strings"
   ]
  },
  {
   "cell_type": "code",
   "execution_count": 9,
   "id": "22026aee",
   "metadata": {
    "collapsed": false,
    "jupyter": {
     "outputs_hidden": false,
     "source_hidden": false
    }
   },
   "outputs": [
    {
     "name": "stdout",
     "output_type": "stream",
     "text": [
      "Time taken without raw string: 1.16\n"
     ]
    },
    {
     "name": "stdout",
     "output_type": "stream",
     "text": [
      "Time taken with raw string:  1.18\n"
     ]
    }
   ],
   "source": [
    "import re\n",
    "import time\n",
    "\n",
    "# Define a regex pattern without using a raw string\n",
    "pattern_without_raw = \"\\d+\"\n",
    "\n",
    "# Define the same regex pattern using a raw string\n",
    "pattern_with_raw = r\"\\d+\"\n",
    "\n",
    "# Create some sample text to search\n",
    "text = \"123 456 789 012\" * 3000000\n",
    "\n",
    "# Search using the pattern without raw string\n",
    "start_time = time.time()\n",
    "matches_without_raw = re.findall(pattern_without_raw, text)\n",
    "end_time = time.time()\n",
    "time_without_raw = end_time - start_time\n",
    "\n",
    "# Search using the pattern with raw string\n",
    "start_time = time.time()\n",
    "matches_with_raw = re.findall(pattern_with_raw, text)\n",
    "end_time = time.time()\n",
    "time_with_raw = end_time - start_time\n",
    "\n",
    "# Print the results and performance comparison\n",
    "print(f\"Time taken without raw string:{time_without_raw: .3}\")\n",
    "print(f\"Time taken with raw string: {time_with_raw: .3}\")\n"
   ]
  }
 ],
 "metadata": {
  "kernelspec": {
   "display_name": "Local Python",
   "language": "python",
   "name": "local-python"
  },
  "language_info": {
   "codemirror_mode": {
    "name": "python",
    "version": 3
   },
   "file_extension": ".py",
   "mimetype": "text/x-python",
   "name": "python",
   "nbconvert_exporter": "python",
   "pygments_lexer": "python3",
   "version": "3.12.2"
  },
  "widgets": {
   "application/vnd.jupyter.widget-state+json": {
    "state": {},
    "version_major": 2,
    "version_minor": 0
   }
  }
 },
 "nbformat": 4,
 "nbformat_minor": 5
}
