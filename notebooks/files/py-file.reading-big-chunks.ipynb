{
 "cells": [
  {
   "cell_type": "markdown",
   "execution_count": 0,
   "id": "f85819c0",
   "metadata": {
    "jupyter": {
     "source_hidden": false
    }
   },
   "source": [
    "# How to work with large files"
   ]
  },
  {
   "cell_type": "code",
   "execution_count": 2,
   "id": "f3b09e06",
   "metadata": {
    "collapsed": false,
    "jupyter": {
     "outputs_hidden": false,
     "source_hidden": false
    }
   },
   "outputs": [
    {
     "name": "stdout",
     "output_type": "stream",
     "text": [
      "all contents (files and directories):\n"
     ]
    },
    {
     "name": "stdout",
     "output_type": "stream",
     "text": [
      ".euporie.jupyter-terminal.md.swp\n"
     ]
    },
    {
     "name": "stdout",
     "output_type": "stream",
     "text": [
      "discordo.md\n"
     ]
    },
    {
     "name": "stdout",
     "output_type": "stream",
     "text": [
      "tmp-env\n"
     ]
    },
    {
     "name": "stdout",
     "output_type": "stream",
     "text": [
      "euporie.jupyter-terminal.md\n"
     ]
    },
    {
     "name": "stdout",
     "output_type": "stream",
     "text": [
      "lue.ebook-reader.md\n"
     ]
    },
    {
     "name": "stdout",
     "output_type": "stream",
     "text": [
      "README.md\n"
     ]
    },
    {
     "name": "stdout",
     "output_type": "stream",
     "text": [
      "\n"
     ]
    },
    {
     "name": "stdout",
     "output_type": "stream",
     "text": [
      "only files:\n"
     ]
    },
    {
     "name": "stdout",
     "output_type": "stream",
     "text": [
      ".euporie.jupyter-terminal.md.swp\n"
     ]
    },
    {
     "name": "stdout",
     "output_type": "stream",
     "text": [
      "discordo.md\n"
     ]
    },
    {
     "name": "stdout",
     "output_type": "stream",
     "text": [
      "euporie.jupyter-terminal.md\n"
     ]
    },
    {
     "name": "stdout",
     "output_type": "stream",
     "text": [
      "lue.ebook-reader.md\n"
     ]
    },
    {
     "name": "stdout",
     "output_type": "stream",
     "text": [
      "README.md\n"
     ]
    },
    {
     "name": "stdout",
     "output_type": "stream",
     "text": [
      "\n"
     ]
    },
    {
     "name": "stdout",
     "output_type": "stream",
     "text": [
      "only directories:\n"
     ]
    },
    {
     "name": "stdout",
     "output_type": "stream",
     "text": [
      "tmp-env\n"
     ]
    }
   ],
   "source": [
    "import os\n",
    "# get the current working directory\n",
    "cwd = os.getcwd()\n",
    "# print(cwd)\n",
    "# get a list of all entries (files and directories) in the specified folder\n",
    "folder_path = cwd\n",
    "folder_path = '.'\n",
    "contents = os.listdir(folder_path)\n",
    "# filter for only files (optional, if you only want files and not subdirectories)\n",
    "files_only = [item for item in contents if os.path.isfile(os.path.join(folder_path, item))]\n",
    "folder_only = [item for item in contents if os.path.isdir(os.path.join(folder_path, item))]\n",
    "print(\"all contents (files and directories):\")\n",
    "for item in contents:\n",
    "  print(item)\n",
    "print(\"\\nonly files:\")\n",
    "for file_name in files_only:\n",
    "  print(file_name)\n",
    "print(\"\\nonly directories:\")\n",
    "for dir_name in folder_only:\n",
    "  print(dir_name)"
   ]
  },
  {
   "cell_type": "markdown",
   "id": "fda8c06b",
   "metadata": {
    "jupyter": {
     "source_hidden": false
    }
   },
   "source": [
    "## Using iterators for line-by-line reading"
   ]
  },
  {
   "cell_type": "code",
   "execution_count": 5,
   "id": "062ac5a5",
   "metadata": {
    "collapsed": false,
    "jupyter": {
     "outputs_hidden": false,
     "source_hidden": false
    }
   },
   "outputs": [
    {
     "name": "stdout",
     "output_type": "stream",
     "text": [
      "# README\n"
     ]
    },
    {
     "name": "stdout",
     "output_type": "stream",
     "text": [
      "\n"
     ]
    },
    {
     "name": "stdout",
     "output_type": "stream",
     "text": [
      "\n"
     ]
    },
    {
     "name": "stdout",
     "output_type": "stream",
     "text": [
      "\n"
     ]
    }
   ],
   "source": [
    "with open('README.md', 'r') as file:\n",
    "  for line in file:\n",
    "    print(line)"
   ]
  },
  {
   "cell_type": "markdown",
   "id": "356d3a84",
   "metadata": {
    "jupyter": {
     "source_hidden": false
    }
   },
   "source": [
    "## Reading in Chunks"
   ]
  },
  {
   "cell_type": "code",
   "execution_count": 6,
   "id": "7180b304",
   "metadata": {
    "collapsed": false,
    "jupyter": {
     "outputs_hidden": false,
     "source_hidden": false
    }
   },
   "outputs": [
    {
     "name": "stdout",
     "output_type": "stream",
     "text": [
      "b'# README\\n\\n'\n"
     ]
    }
   ],
   "source": [
    "def read_file_in_chunks(file_path, chunk_size=1024):\n",
    "  with open(file_path, 'rb') as file:\n",
    "    while True:\n",
    "      chunk = file.read(chunk_size)\n",
    "      if not chunk:\n",
    "          break\n",
    "      print(chunk)\n",
    "read_file_in_chunks('README.md', chunk_size=64)"
   ]
  },
  {
   "cell_type": "markdown",
   "id": "ddbf8a54",
   "metadata": {
    "jupyter": {
     "source_hidden": false
    }
   },
   "source": [
    "## Buffered File Reading"
   ]
  },
  {
   "cell_type": "code",
   "execution_count": 7,
   "id": "0f382987",
   "metadata": {
    "collapsed": false,
    "jupyter": {
     "outputs_hidden": false,
     "source_hidden": false
    }
   },
   "outputs": [
    {
     "name": "stdout",
     "output_type": "stream",
     "text": [
      "b'# README\\n'\n"
     ]
    },
    {
     "name": "stdout",
     "output_type": "stream",
     "text": [
      "b'\\n'\n"
     ]
    }
   ],
   "source": [
    "with open('README.md', 'rb', buffering=10*1024*1024) as file:\n",
    "  for line in file:\n",
    "    print(line)"
   ]
  },
  {
   "cell_type": "markdown",
   "id": "18252ddf",
   "metadata": {
    "jupyter": {
     "source_hidden": false
    }
   },
   "source": [
    "## Memory-Mapped Files (mmap)"
   ]
  },
  {
   "cell_type": "code",
   "execution_count": 12,
   "id": "0a83c4b8",
   "metadata": {
    "collapsed": false,
    "jupyter": {
     "outputs_hidden": false,
     "source_hidden": false
    }
   },
   "outputs": [
    {
     "name": "stdout",
     "output_type": "stream",
     "text": [
      "#\n"
     ]
    },
    {
     "name": "stdout",
     "output_type": "stream",
     "text": [
      " \n"
     ]
    },
    {
     "name": "stdout",
     "output_type": "stream",
     "text": [
      "R\n"
     ]
    },
    {
     "name": "stdout",
     "output_type": "stream",
     "text": [
      "E\n"
     ]
    },
    {
     "name": "stdout",
     "output_type": "stream",
     "text": [
      "A\n"
     ]
    },
    {
     "name": "stdout",
     "output_type": "stream",
     "text": [
      "D\n"
     ]
    },
    {
     "name": "stdout",
     "output_type": "stream",
     "text": [
      "M\n"
     ]
    },
    {
     "name": "stdout",
     "output_type": "stream",
     "text": [
      "E\n"
     ]
    },
    {
     "name": "stdout",
     "output_type": "stream",
     "text": [
      "\n"
     ]
    },
    {
     "name": "stdout",
     "output_type": "stream",
     "text": [
      "\n"
     ]
    },
    {
     "name": "stdout",
     "output_type": "stream",
     "text": [
      "\n"
     ]
    },
    {
     "name": "stdout",
     "output_type": "stream",
     "text": [
      "\n"
     ]
    }
   ],
   "source": [
    "import mmap\n",
    "with open('README.md', 'r') as file:\n",
    "  with mmap.mmap(file.fileno(), length=0, access=mmap.ACCESS_READ) as mm:\n",
    "    for line in mm:\n",
    "      print(line.decode('utf-8'))"
   ]
  },
  {
   "cell_type": "markdown",
   "id": "9e7a44b7",
   "metadata": {
    "jupyter": {
     "source_hidden": false
    }
   },
   "source": [
    "## Using Generators"
   ]
  },
  {
   "cell_type": "code",
   "execution_count": 14,
   "id": "26064230",
   "metadata": {
    "collapsed": false,
    "jupyter": {
     "outputs_hidden": false,
     "source_hidden": false
    }
   },
   "outputs": [
    {
     "name": "stdout",
     "output_type": "stream",
     "text": [
      "# README\n"
     ]
    },
    {
     "name": "stdout",
     "output_type": "stream",
     "text": [
      "\n"
     ]
    },
    {
     "name": "stdout",
     "output_type": "stream",
     "text": [
      "\n"
     ]
    },
    {
     "name": "stdout",
     "output_type": "stream",
     "text": [
      "\n"
     ]
    }
   ],
   "source": [
    "def generate_lines(file_path):\n",
    "  with open(file_path, 'r') as file:\n",
    "    for line in file:\n",
    "      yield line\n",
    "\n",
    "for line in generate_lines('README.md'):\n",
    "  print(line)"
   ]
  },
  {
   "cell_type": "markdown",
   "id": "cd08c494",
   "metadata": {
    "jupyter": {
     "source_hidden": false
    }
   },
   "source": [
    "## Processing Batches of Lines"
   ]
  },
  {
   "cell_type": "code",
   "execution_count": 15,
   "id": "4ee5d58f",
   "metadata": {
    "collapsed": false,
    "jupyter": {
     "outputs_hidden": false,
     "source_hidden": false
    }
   },
   "outputs": [
    {
     "name": "stdout",
     "output_type": "stream",
     "text": [
      "['# README', '']\n"
     ]
    }
   ],
   "source": [
    "def read_batches(file_path, batch_size=5):\n",
    "  with open(file_path, 'r') as file:\n",
    "    batch = []\n",
    "    for line in file:\n",
    "      batch.append(line.strip())\n",
    "      if len(batch) == batch_size:\n",
    "        yield batch\n",
    "        batch = []\n",
    "    if batch:\n",
    "      yield batch\n",
    "\n",
    "# example usage:\n",
    "for batch in read_batches('README.md', batch_size=5):\n",
    "  print(batch)  # Replace with your processing logic"
   ]
  },
  {
   "cell_type": "markdown",
   "id": "1615e28f",
   "metadata": {
    "jupyter": {
     "source_hidden": false
    }
   },
   "source": [
    "## Stream Processing\n",
    "\n",
    "If data arrives continuously (e.g., logs or APIs), use stream processing."
   ]
  },
  {
   "cell_type": "code",
   "execution_count": 1,
   "id": "7c611c22",
   "metadata": {
    "collapsed": false,
    "jupyter": {
     "outputs_hidden": false,
     "source_hidden": false
    }
   },
   "outputs": [
    {
     "name": "stdout",
     "output_type": "stream",
     "text": [
      "b'# README'\n"
     ]
    },
    {
     "name": "stdout",
     "output_type": "stream",
     "text": [
      "b''\n"
     ]
    },
    {
     "name": "stdout",
     "output_type": "stream",
     "text": [
      "b'# README'\n"
     ]
    },
    {
     "name": "stdout",
     "output_type": "stream",
     "text": [
      "b''\n"
     ]
    }
   ],
   "source": [
    "# pip3 install requests\n",
    "import requests\n",
    "\n",
    "def stream_data(url):\n",
    "  with requests.get(url, stream=True) as response:\n",
    "    for line in response.iter_lines():\n",
    "      print(line)\n",
    "stream_data('https://raw.githubusercontent.com/igorlima/unapologetic-thoughts/407a240d0d22022670d7af33bc546257d1ac6e85/snippets/cli-and-tui/README.md')\n",
    "stream_data('https://raw.githubusercontent.com/igorlima/unapologetic-thoughts/refs/heads/master/snippets/cli-and-tui/README.md')"
   ]
  }
 ],
 "metadata": {
  "kernelspec": {
   "display_name": "Local Python",
   "language": "python",
   "name": "local-python"
  },
  "language_info": {
   "codemirror_mode": {
    "name": "python",
    "version": 3
   },
   "file_extension": ".py",
   "mimetype": "text/x-python",
   "name": "python",
   "nbconvert_exporter": "python",
   "pygments_lexer": "python3",
   "version": "3.12.2"
  },
  "widgets": {
   "application/vnd.jupyter.widget-state+json": {
    "state": {},
    "version_major": 2,
    "version_minor": 0
   }
  }
 },
 "nbformat": 4,
 "nbformat_minor": 5
}
