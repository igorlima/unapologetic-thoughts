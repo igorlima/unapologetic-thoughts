{
 "cells": [
  {
   "cell_type": "markdown",
   "execution_count": 0,
   "id": "17feaca5",
   "metadata": {
    "jupyter": {
     "source_hidden": false
    }
   },
   "source": [
    "# Python Basics"
   ]
  },
  {
   "cell_type": "code",
   "execution_count": 1,
   "id": "0fb97237",
   "metadata": {
    "collapsed": false,
    "jupyter": {
     "outputs_hidden": false,
     "source_hidden": false
    }
   },
   "outputs": [
    {
     "name": "stdout",
     "output_type": "stream",
     "text": [
      "3\n"
     ]
    }
   ],
   "source": [
    "a = 1\n",
    "b = 2\n",
    "print(a+b)"
   ]
  },
  {
   "cell_type": "markdown",
   "execution_count": 0,
   "id": "c9f1f2af",
   "metadata": {
    "jupyter": {
     "source_hidden": false
    }
   },
   "source": [
    "# Generators and Iterators\n"
   ]
  },
  {
   "cell_type": "code",
   "execution_count": 3,
   "id": "470811f0",
   "metadata": {
    "collapsed": false,
    "jupyter": {
     "outputs_hidden": false,
     "source_hidden": false
    }
   },
   "outputs": [
    {
     "name": "stdout",
     "output_type": "stream",
     "text": [
      "0\n"
     ]
    },
    {
     "name": "stdout",
     "output_type": "stream",
     "text": [
      "1\n"
     ]
    },
    {
     "name": "stdout",
     "output_type": "stream",
     "text": [
      "1\n"
     ]
    },
    {
     "name": "stdout",
     "output_type": "stream",
     "text": [
      "2\n"
     ]
    },
    {
     "name": "stdout",
     "output_type": "stream",
     "text": [
      "3\n"
     ]
    },
    {
     "name": "stdout",
     "output_type": "stream",
     "text": [
      "5\n"
     ]
    },
    {
     "name": "stdout",
     "output_type": "stream",
     "text": [
      "8\n"
     ]
    },
    {
     "name": "stdout",
     "output_type": "stream",
     "text": [
      "13\n"
     ]
    },
    {
     "name": "stdout",
     "output_type": "stream",
     "text": [
      "21\n"
     ]
    },
    {
     "name": "stdout",
     "output_type": "stream",
     "text": [
      "34\n"
     ]
    },
    {
     "name": "stdout",
     "output_type": "stream",
     "text": [
      "55\n"
     ]
    },
    {
     "name": "stdout",
     "output_type": "stream",
     "text": [
      "89\n"
     ]
    }
   ],
   "source": [
    "def fibonacci_sequence(limit):\n",
    "  a, b = 0, 1\n",
    "  while a < limit:\n",
    "    yield a\n",
    "    a, b = b, a + b\n",
    "\n",
    "for num in fibonacci_sequence(100):\n",
    "  print(num)"
   ]
  },
  {
   "cell_type": "markdown",
   "execution_count": 0,
   "id": "854c5f53",
   "metadata": {
    "jupyter": {
     "source_hidden": false
    }
   },
   "source": [
    "# Decorators\n",
    "\n",
    "Further reading: [Notebook Decorators](https://github.com/igorlima/unapologetic-thoughts/blob/ebac7906b6a66f25d89bfa4fce671104b62cedbd/notebooks/files/py-decorators.ipynb)"
   ]
  },
  {
   "cell_type": "code",
   "execution_count": 4,
   "id": "f4aab650",
   "metadata": {
    "collapsed": false,
    "jupyter": {
     "outputs_hidden": false,
     "source_hidden": false
    }
   },
   "outputs": [
    {
     "name": "stdout",
     "output_type": "stream",
     "text": [
      "Calling add with (5, 3) and {}\n"
     ]
    },
    {
     "data": {
      "text/plain": [
       "8"
      ]
     },
     "execution_count": 4,
     "metadata": {},
     "output_type": "execute_result"
    }
   ],
   "source": [
    "def log_function_call(func):\n",
    "  def wrapper(*args, **kwargs):\n",
    "    print(f\"Calling {func.__name__} with {args} and {kwargs}\")\n",
    "    return func(*args, **kwargs)\n",
    "  return wrapper\n",
    "\n",
    "@log_function_call\n",
    "def add(a, b):\n",
    "  return a + b\n",
    "\n",
    "add(5, 3)"
   ]
  },
  {
   "cell_type": "markdown",
   "execution_count": 0,
   "id": "2e4878e7",
   "metadata": {
    "jupyter": {
     "source_hidden": false
    }
   },
   "source": [
    "# Image\n",
    "\n",
    "Further reading about image manipulation in Python can be found in the [Python Notebook Image](https://github.com/igorlima/unapologetic-thoughts/blob/2df645241d56fa37437baea2600c25410117093d/notebooks/files/py-images.ipynb)."
   ]
  },
  {
   "cell_type": "markdown",
   "execution_count": 0,
   "id": "afd612bd",
   "metadata": {
    "jupyter": {
     "source_hidden": false
    }
   },
   "source": [
    "# Context Manager"
   ]
  },
  {
   "cell_type": "code",
   "execution_count": 5,
   "id": "bbd2c67f",
   "metadata": {
    "collapsed": false,
    "jupyter": {
     "outputs_hidden": false,
     "source_hidden": false
    }
   },
   "outputs": [
    {
     "name": "stdout",
     "output_type": "stream",
     "text": [
      "File /tmp/example.txt has been opened in w mode.\n"
     ]
    },
    {
     "name": "stdout",
     "output_type": "stream",
     "text": [
      "File /tmp/example.txt operations completed.\n"
     ]
    },
    {
     "name": "stdout",
     "output_type": "stream",
     "text": [
      "File /tmp/example.txt has been closed.\n"
     ]
    }
   ],
   "source": [
    "from contextlib import contextmanager\n",
    "\n",
    "@contextmanager\n",
    "def open_file(file, mode):\n",
    "  f = open(file, mode)\n",
    "  try:\n",
    "    print(f\"File {file} has been opened in {mode} mode.\")\n",
    "    yield f\n",
    "    print(f\"File {file} operations completed.\")\n",
    "  finally:\n",
    "    f.close()\n",
    "    print(f\"File {file} has been closed.\")\n",
    "\n",
    "with open_file('/tmp/example.txt', 'w') as f:\n",
    "  f.write('Hello, World!')"
   ]
  },
  {
   "cell_type": "markdown",
   "execution_count": 0,
   "id": "fb517804",
   "metadata": {
    "jupyter": {
     "source_hidden": false
    }
   },
   "source": [
    "# Coroutines and Asyncio"
   ]
  },
  {
   "cell_type": "code",
   "execution_count": 7,
   "id": "a9ac60f3",
   "metadata": {
    "collapsed": false,
    "jupyter": {
     "outputs_hidden": false,
     "source_hidden": false
    }
   },
   "outputs": [
    {
     "name": "stdout",
     "output_type": "stream",
     "text": [
      "Starting...\n"
     ]
    },
    {
     "name": "stdout",
     "output_type": "stream",
     "text": [
      "Fetching data...\n"
     ]
    },
    {
     "name": "stdout",
     "output_type": "stream",
     "text": [
      "Data fetched\n"
     ]
    },
    {
     "name": "stdout",
     "output_type": "stream",
     "text": [
      "Finished.\n"
     ]
    }
   ],
   "source": [
    "import asyncio\n",
    "\n",
    "async def fetch_data():\n",
    "  print(\"Fetching data...\")\n",
    "  await asyncio.sleep(2)\n",
    "  print(\"Data fetched\")\n",
    "\n",
    "print(\"Starting...\")\n",
    "asyncio.run(fetch_data())\n",
    "print(\"Finished.\")"
   ]
  },
  {
   "cell_type": "markdown",
   "execution_count": 0,
   "id": "4bd28f95",
   "metadata": {
    "jupyter": {
     "source_hidden": false
    }
   },
   "source": [
    "# Multi-threading and Multi-processing\n"
   ]
  },
  {
   "cell_type": "code",
   "execution_count": 19,
   "id": "c322ebc0",
   "metadata": {
    "collapsed": false,
    "jupyter": {
     "outputs_hidden": false,
     "source_hidden": false
    }
   },
   "outputs": [
    {
     "name": "stdout",
     "output_type": "stream",
     "text": [
      "This script is intended to be run as a main program.\n"
     ]
    }
   ],
   "source": [
    "# This script demonstrates the use of threading in Python.\n",
    "import threading\n",
    "import time\n",
    "\n",
    "def print_numbers(name, delay):\n",
    "  for i in range(5):\n",
    "    time.sleep(delay)\n",
    "    print(f\"Thread {name}: {i}\")\n",
    "\n",
    "# It should be run as a main program.\n",
    "# Otherwise, it will not execute the threading part.\n",
    "if __name__ == \"__main__\":\n",
    "  print(\"Main program: Starting threads\")\n",
    "\n",
    "  thread1 = threading.Thread(target=print_numbers, args=(\"One\", 0.5))\n",
    "  thread2 = threading.Thread(target=print_numbers, args=(\"Two\", 0.7))\n",
    "\n",
    "  thread1.start()\n",
    "  thread2.start()\n",
    "\n",
    "  thread1.join() # Wait for thread1 to complete\n",
    "  thread2.join() # Wait for thread2 to complete\n",
    "\n",
    "  print(\"Main program: All threads finished\")\n",
    "else:\n",
    "  print(\"This script is intended to be run as a main program.\")"
   ]
  },
  {
   "cell_type": "markdown",
   "execution_count": 0,
   "id": "9a1bc69d",
   "metadata": {
    "jupyter": {
     "source_hidden": false
    }
   },
   "source": [
    "# Memory Management and Garbage Collection"
   ]
  },
  {
   "cell_type": "code",
   "execution_count": 21,
   "id": "a47121f8",
   "metadata": {
    "collapsed": false,
    "jupyter": {
     "outputs_hidden": false,
     "source_hidden": false
    }
   },
   "outputs": [
    {
     "name": "stdout",
     "output_type": "stream",
     "text": [
      "2179\n"
     ]
    }
   ],
   "source": [
    "import gc\n",
    "\n",
    "def create_cycle():\n",
    "  a = {}\n",
    "  b = {\"ref\": a}\n",
    "  a[\"ref\"] = b\n",
    "\n",
    "create_cycle()\n",
    "print(gc.collect())  # Force garbage collection"
   ]
  },
  {
   "cell_type": "markdown",
   "execution_count": 0,
   "id": "1269f090",
   "metadata": {
    "jupyter": {
     "source_hidden": false
    }
   },
   "source": [
    "# Using INI file with configparser\n",
    "\n",
    "Further examples are in [another notebook](https://github.com/igorlima/unapologetic-thoughts/blob/ebac7906b6a66f25d89bfa4fce671104b62cedbd/notebooks/files/py-ini.plan-text-config-file.ipynb)\n"
   ]
  },
  {
   "cell_type": "code",
   "execution_count": 2,
   "id": "05935cb0",
   "metadata": {
    "collapsed": false,
    "jupyter": {
     "outputs_hidden": false,
     "source_hidden": false
    }
   },
   "outputs": [
    {
     "name": "stdout",
     "output_type": "stream",
     "text": [
      "['mypy', 'mypy-mycode.foo.*']\n"
     ]
    },
    {
     "name": "stdout",
     "output_type": "stream",
     "text": [
      "<Section: mypy>\n"
     ]
    },
    {
     "name": "stdout",
     "output_type": "stream",
     "text": [
      "True\n"
     ]
    }
   ],
   "source": [
    "import configparser\n",
    "\n",
    "sample_config = \"\"\"\n",
    "[mypy]\n",
    "warn_return_any = True\n",
    "warn_unused_configs = True\n",
    "\n",
    "# per-module options\n",
    "\n",
    "[mypy-mycode.foo.*]\n",
    "disallow_untyped_defs = True\n",
    "\"\"\"\n",
    "\n",
    "config = configparser.ConfigParser(allow_no_value=True)\n",
    "config.read_string(sample_config)\n",
    "print(config.sections())\n",
    "print(config['mypy'])\n",
    "print(config['mypy']['warn_return_any'])"
   ]
  }
 ],
 "metadata": {
  "kernelspec": {
   "display_name": "Local Python",
   "language": "python",
   "name": "local-python"
  },
  "language_info": {
   "codemirror_mode": {
    "name": "python",
    "version": 3
   },
   "file_extension": ".py",
   "mimetype": "text/x-python",
   "name": "python",
   "nbconvert_exporter": "python",
   "pygments_lexer": "python3",
   "version": "3.13.7"
  },
  "widgets": {
   "application/vnd.jupyter.widget-state+json": {
    "state": {},
    "version_major": 2,
    "version_minor": 0
   }
  }
 },
 "nbformat": 4,
 "nbformat_minor": 5
}
