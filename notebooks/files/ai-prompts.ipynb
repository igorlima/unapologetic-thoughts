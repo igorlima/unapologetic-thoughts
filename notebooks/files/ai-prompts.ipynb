{
 "cells": [
  {
   "cell_type": "markdown",
   "id": "4581b95f-ee6f-46ee-ba6d-75e61f6db310",
   "metadata": {},
   "source": [
    "# AI Prompts\n",
    "\n",
    "- re-render Markdown preview after an edition:\n",
    "  - __\"Activate Command Pallete\"__ by pressing `Ctrl+Shift+C`\n",
    "    - _it's also located under the menu \"View\"_\n",
    "  - type __\"Render All Markdown Cells\"__\n",
    "  - press `Enter`\n",
    "\n"
   ]
  },
  {
   "cell_type": "markdown",
   "id": "07fc8987-e773-42a2-8554-4ff6bec0e258",
   "metadata": {},
   "source": [
    "## Info"
   ]
  },
  {
   "cell_type": "markdown",
   "id": "12c15ee4-5757-4fe5-a84e-aaff8247795b",
   "metadata": {},
   "source": [
    "\n",
    "- How to Create a Virtual Environment and Use it on Jupyter Notebook\n",
    "  - https://towardsdatascience.com/how-to-create-a-virtual-environment-and-use-it-on-jupyter-notebook-6c0b7b1cfca0\n",
    "  - https://medium.com/@kishanck/virtual-environments-for-jupyter-notebooks-847b7a3b4da0"
   ]
  },
  {
   "cell_type": "markdown",
   "id": "4ae0fbe7-7848-40fb-a950-4ee1f2c715ae",
   "metadata": {},
   "source": [
    "### Using passwords in Jupyter notebooks\n",
    "\n",
    "In Python you can ask the user for input via the `input` function.\n",
    "```python\n",
    "pwd = input(\"Password:\")\n",
    "```\n",
    "\n",
    "When you run this command locally, here's what it might look like:\n",
    "\n",
    "```\n",
    ">>> pwd = input(\"Password:\")\n",
    "Password: supersecret\n",
    "```\n",
    "\n",
    "The `pwd` variable will contain the string \"supersecret\", but notice how the command prompt actually shows what the user is typing! That means that somebody who is sitting next to you, or looking at your screen over zoom, also can read your password! That's bad.\n",
    "\n",
    "#### getpass\n",
    "\n",
    "For situations like this one, you may enjoy using the getpass module in Python instead. It has the same functionality but won't display the typed password.\n",
    "\n",
    "```\n",
    ">>> import getpass\n",
    ">>> pwd = getpass.getpass(\"give password\")\n",
    "Password:🗝️\n",
    "```\n",
    "\n",
    "No matter what you type, it won't be printed.\n"
   ]
  },
  {
   "cell_type": "markdown",
   "id": "08bf2730-0609-46df-bd59-375c58317329",
   "metadata": {
    "jp-MarkdownHeadingCollapsed": true
   },
   "source": [
    "## Prompts"
   ]
  },
  {
   "cell_type": "markdown",
   "id": "3bb3df19-c1b6-48d8-be0f-c10cc5e9dc5e",
   "metadata": {},
   "source": [
    "..."
   ]
  },
  {
   "cell_type": "markdown",
   "id": "18eccae4-09ea-42db-b8a1-ed3d7ac2253e",
   "metadata": {
    "jp-MarkdownHeadingCollapsed": true
   },
   "source": [
    "## Gemini"
   ]
  },
  {
   "cell_type": "markdown",
   "id": "75f97c55-251f-4893-8342-062bf7bf9e65",
   "metadata": {},
   "source": [
    "### setup"
   ]
  },
  {
   "cell_type": "code",
   "execution_count": 17,
   "id": "7cabad1f-e4f7-45e1-8d93-a6c3ef886d3e",
   "metadata": {},
   "outputs": [
    {
     "name": "stdin",
     "output_type": "stream",
     "text": [
      "enter GOOGLE_API_KEY:  ········\n"
     ]
    }
   ],
   "source": [
    "import os\n",
    "import getpass\n",
    "os.environ['GOOGLE_API_KEY'] = getpass.getpass(\"enter GOOGLE_API_KEY: \")\n",
    "# %env"
   ]
  },
  {
   "cell_type": "code",
   "execution_count": 18,
   "id": "3980015e-b849-4bd0-8115-3bab1af7df53",
   "metadata": {},
   "outputs": [],
   "source": [
    "# pip3 install -I google-generativeai==0.5.2\n",
    "# pip3 install --upgrade --force-reinstall google-generativeai\n",
    "# pip3 show google-generativeai\n",
    "# pip3 index versions google-generativeai\n",
    "\n",
    "# Overview of Generative AI on Vertex AI:\n",
    "# https://cloud.google.com/vertex-ai/generative-ai/docs/learn/overview\n",
    "# Google Gemini Documentation:\n",
    "# https://github.com/google/generative-ai-docs?tab=readme-ov-file\n",
    "\n",
    "import google.generativeai as genai\n",
    "import google.ai.generativelanguage as glm\n",
    "import os\n",
    "\n",
    "GOOGLE_API_KEY=os.environ.get(\"GOOGLE_API_KEY\")\n",
    "genai.configure(api_key=GOOGLE_API_KEY)"
   ]
  },
  {
   "cell_type": "markdown",
   "id": "46c27937-9d61-4df5-b765-e574995d52f8",
   "metadata": {},
   "source": [
    "### playground"
   ]
  },
  {
   "cell_type": "code",
   "execution_count": 19,
   "id": "8e9ddb07-611d-434b-bcde-aa92d5fafa16",
   "metadata": {},
   "outputs": [
    {
     "name": "stdout",
     "output_type": "stream",
     "text": [
      "I am a large language model, trained by Google.\n"
     ]
    }
   ],
   "source": [
    "CONTEXT = None\n",
    "PROMPT = \"\"\"\n",
    "What's your name?\n",
    "\"\"\"\n",
    "\n",
    "prompt = PROMPT\n",
    "model = genai.GenerativeModel('gemini-pro')\n",
    "# response = model.generate_content(prompt)\n",
    "response = model.generate_content(glm.Content(\n",
    "  parts = [\n",
    "    glm.Part(text=prompt),\n",
    "    glm.Part(text=CONTEXT if CONTEXT is not None else ''),\n",
    "  ],\n",
    "))\n",
    "print(response.parts[0].text)"
   ]
  },
  {
   "cell_type": "markdown",
   "id": "eed24923-3985-4493-ad67-e8fa350791dc",
   "metadata": {
    "jp-MarkdownHeadingCollapsed": true
   },
   "source": [
    "## OpenAI"
   ]
  },
  {
   "cell_type": "markdown",
   "id": "d8469d82-5320-4726-9202-30833a2b79b4",
   "metadata": {},
   "source": [
    "### setup"
   ]
  },
  {
   "cell_type": "code",
   "execution_count": 7,
   "id": "2ae47060-ebbf-435d-b42a-445903510874",
   "metadata": {},
   "outputs": [
    {
     "name": "stdin",
     "output_type": "stream",
     "text": [
      "enter OPENAI_API_KEY:  ········\n"
     ]
    }
   ],
   "source": [
    "# pip3 install --upgrade openai==1.28.1\n",
    "# pip3 show openai\n",
    "\n",
    "import os\n",
    "import getpass\n",
    "os.environ['OPENAI_API_KEY'] = getpass.getpass(\"enter OPENAI_API_KEY: \")\n",
    "# %env"
   ]
  },
  {
   "cell_type": "code",
   "execution_count": null,
   "id": "678a2adb-8a42-4f0f-98e1-70c4c14a5f76",
   "metadata": {},
   "outputs": [],
   "source": [
    "from openai import OpenAI\n",
    "client = OpenAI()"
   ]
  },
  {
   "cell_type": "markdown",
   "id": "5dfce53d-cf91-4904-b989-6c1d32e77ba3",
   "metadata": {},
   "source": [
    "### plaground"
   ]
  },
  {
   "cell_type": "code",
   "execution_count": 4,
   "id": "02f72eee-2133-4ba1-a33f-fee9a60410a7",
   "metadata": {},
   "outputs": [
    {
     "name": "stdout",
     "output_type": "stream",
     "text": [
      "In the realm of code where mysteries unfurl,\n",
      "Lies a concept that makes programmers twirl.\n",
      "Recursion, a loop of elegant design,\n",
      "Where a function calls itself, a loop divine.\n",
      "\n",
      "Like a mirror reflecting its own reflection,\n",
      "Recursion repeats with pure perfection.\n",
      "Each call delves deeper, a journey profound,\n",
      "Until a base case is finally found.\n",
      "\n",
      "Through recursion's mystical embrace,\n",
      "We solve problems with dazzling grace.\n",
      "Divide and conquer, the code does roam,\n",
      "Unraveling complexities, making them known.\n",
      "\n",
      "But beware, oh coder, in this twisting dance,\n",
      "Stack overflow lurks, a dangerous chance.\n",
      "With recursive bounds, be wise and clear,\n",
      "For there's magic and beauty, but danger near.\n",
      "\n",
      "So tread softly, embrace the recursion's call,\n",
      "For in its loops lies a wonderous thrall.\n",
      "Unlocking the secrets of algorithms grand,\n",
      "Recursion, a marvel in programmers' hand.\n"
     ]
    }
   ],
   "source": [
    "completion = client.chat.completions.create(\n",
    "  model=\"gpt-3.5-turbo\",\n",
    "  messages=[\n",
    "    {\"role\": \"system\", \"content\": \"You are a poetic assistant, skilled in explaining complex programming concepts with creative flair.\"},\n",
    "    {\"role\": \"user\", \"content\": \"Compose a poem that explains the concept of recursion in programming.\"}\n",
    "  ]\n",
    ")\n",
    "\n",
    "# print(completion.choices[0].message)\n",
    "# print('\\n')\n",
    "print(completion.choices[0].message.content)"
   ]
  },
  {
   "cell_type": "markdown",
   "id": "61e4c0ac-98d5-452b-896f-c233fc17bdc5",
   "metadata": {
    "jp-MarkdownHeadingCollapsed": true
   },
   "source": [
    "## Mistral"
   ]
  },
  {
   "cell_type": "markdown",
   "id": "f4da615c-a8f2-45ea-aa6b-53fc074e00c0",
   "metadata": {},
   "source": [
    "### setup"
   ]
  },
  {
   "cell_type": "code",
   "execution_count": 11,
   "id": "20f505fc-529b-4720-8a72-aabb47e351d7",
   "metadata": {},
   "outputs": [
    {
     "name": "stdin",
     "output_type": "stream",
     "text": [
      "enter MISTRAL_API_KEY:  ········\n"
     ]
    }
   ],
   "source": [
    "# pip3 install --upgrade mistralai==0.1.8\n",
    "# pip3 show mistralai\n",
    "# https://github.com/mistralai/client-python\n",
    "\n",
    "import os\n",
    "import getpass\n",
    "os.environ['MISTRAL_API_KEY'] = getpass.getpass(\"enter MISTRAL_API_KEY: \")\n",
    "# %env"
   ]
  },
  {
   "cell_type": "code",
   "execution_count": 13,
   "id": "578d84ff-68e8-4cec-aab5-c0d7afa0b592",
   "metadata": {},
   "outputs": [],
   "source": [
    "import os\n",
    "from mistralai.client import MistralClient\n",
    "from mistralai.models.chat_completion import ChatMessage\n",
    "\n",
    "api_key = os.environ[\"MISTRAL_API_KEY\"]\n",
    "model = \"mistral-tiny\"\n",
    "\n",
    "client = MistralClient(api_key=api_key)"
   ]
  },
  {
   "cell_type": "markdown",
   "id": "a9597687-f729-4754-92ae-c1114549dd5e",
   "metadata": {},
   "source": [
    "### playground"
   ]
  },
  {
   "cell_type": "code",
   "execution_count": 14,
   "id": "57481b7c-dfc7-4c66-a822-f8d84cdc973e",
   "metadata": {},
   "outputs": [
    {
     "name": "stdout",
     "output_type": "stream",
     "text": [
      "Determining the \"best\" French cheese is subjective as it depends on personal preferences, as different cheeses offer unique textures, flavors, and aromas. Here are some popular and highly acclaimed French cheeses:\n",
      "\n",
      "1. Roquefort: A blue-veined cheese made from sheep's milk. Known for its distinctive pungent aroma, tangy and savory flavor, and creamy texture.\n",
      "\n",
      "2. Comté: A nutty and sweet-tasting hard cheese made from unpasteurized cow's milk. It comes from the Franche-Comté region in eastern France.\n",
      "\n",
      "3. Camembert: A soft, white-rinded cheese with a rich, earthy, and somewhat tangy flavor. It is often described as tasting like mushrooms.\n",
      "\n",
      "4. Brie de Meaux: A soft, creamy, and buttery cheese with a white rind and a mild, mildly pungent, and slightly sweet flavor. Originates from the region of Île-de-France.\n",
      "\n",
      "5. Munster: A soft, pungent, and runny cheese with a distinctive, strong, and somewhat fruity aroma and flavor. It is made from cow's milk and hails from the Alsace region.\n",
      "\n",
      "6. Époisses: A soft, pungent, and runny cheese with a distinctive, strong, and savory aroma and flavor. It is made from cow's milk and comes from the Burgundy region.\n",
      "\n",
      "7. Chaource: A soft, creamy, and mild cheese with a white rind and a subtle, slightly sweet, and buttery flavor. It is made from cow's milk and comes from the region of Picardy.\n",
      "\n",
      "These are just a few examples of the diverse range of French cheeses, each with its unique characteristics and appeal. In the end, the best French cheese is the one that you personally enjoy the most.\n"
     ]
    }
   ],
   "source": [
    "chat_response = client.chat(\n",
    "  model=model,\n",
    "  messages=[ChatMessage(role=\"user\", content=\"What is the best French cheese?\")],\n",
    ")\n",
    "print(chat_response.choices[0].message.content)"
   ]
  },
  {
   "cell_type": "code",
   "execution_count": null,
   "id": "95517e04-e6af-4999-9bb0-58388c08c50f",
   "metadata": {},
   "outputs": [],
   "source": []
  }
 ],
 "metadata": {
  "kernelspec": {
   "display_name": "Python 3 (ipykernel)",
   "language": "python",
   "name": "python3"
  },
  "language_info": {
   "codemirror_mode": {
    "name": "ipython",
    "version": 3
   },
   "file_extension": ".py",
   "mimetype": "text/x-python",
   "name": "python",
   "nbconvert_exporter": "python",
   "pygments_lexer": "ipython3",
   "version": "3.12.2"
  }
 },
 "nbformat": 4,
 "nbformat_minor": 5
}
