{
 "cells": [
  {
   "cell_type": "markdown",
   "execution_count": 0,
   "id": "5843cf85",
   "metadata": {
    "jupyter": {
     "source_hidden": false
    }
   },
   "source": [
    "# Finding Differences in Images with Python and Pillow\n",
    "\n",
    "There are times when you might want or need to know if an image has changed."
   ]
  },
  {
   "cell_type": "raw",
   "execution_count": 27,
   "id": "cb95eef5",
   "metadata": {
    "collapsed": false,
    "jupyter": {
     "outputs_hidden": false,
     "source_hidden": false
    }
   },
   "outputs": [],
   "source": [
    "# if using a Jupyter notebook TUI in a terminal,\n",
    "#  press '!' to run shell commands\n",
    "!pip3 install Pillow"
   ]
  },
  {
   "cell_type": "code",
   "execution_count": 3,
   "id": "b904a6b2",
   "metadata": {
    "collapsed": false,
    "jupyter": {
     "outputs_hidden": false,
     "source_hidden": false
    }
   },
   "outputs": [
    {
     "name": "stdout",
     "output_type": "stream",
     "text": [
      "Difference image saved to ../../notebooks/files/aux/diff.output.jpg\n"
     ]
    }
   ],
   "source": [
    "#!pip3 install Pillow\n",
    "import os\n",
    "\n",
    "from PIL import Image, ImageChops\n",
    "def difference(image_path_one, image_path_two, output_path):\n",
    "  \"\"\"Compute the absolute difference between two images.\n",
    "  Args:\n",
    "    image_path_one: Path to the first input image.\n",
    "    image_path_two: Path to the second input image.\n",
    "    output_path: Path to save the output image.\n",
    "  Returns:\n",
    "    The absolute value of the pixel-by-pixel difference between the two images.\n",
    "    output_image = |image1 - image2|\n",
    "    output_image = abs(image1 - image2)\n",
    "  \"\"\"\n",
    "  image_one  = Image.open(image_path_one)\n",
    "  image_two  = Image.open(image_path_two)\n",
    "  # one way to do that would be to use Pillow's `ImageChops.difference` function.\n",
    "  image_diff = ImageChops.difference(image_one, image_two)\n",
    "  image_diff.save(output_path)\n",
    "  print(f'Difference image saved to {os.path.relpath(output_path)}')\n",
    "\n",
    "  # import cv2\n",
    "  # return cv2.absdiff(image_path_one, image_path_two)\n",
    "\n",
    "folder_path = '~/workstation/github/unapologetic-thoughts/notebooks/files/aux/'\n",
    "image1_path = os.path.expanduser(folder_path + 'diff.image1.jpg')\n",
    "image2_path = os.path.expanduser(folder_path + 'diff.image2.jpg')\n",
    "output_path = os.path.expanduser(folder_path + 'diff.output.jpg')\n",
    "difference(image1_path, image2_path, output_path)"
   ]
  }
 ],
 "metadata": {
  "kernelspec": {
   "display_name": "Local Python",
   "language": "python",
   "name": "local-python"
  },
  "language_info": {
   "codemirror_mode": {
    "name": "python",
    "version": 3
   },
   "file_extension": ".py",
   "mimetype": "text/x-python",
   "name": "python",
   "nbconvert_exporter": "python",
   "pygments_lexer": "python3",
   "version": "3.13.7"
  },
  "widgets": {
   "application/vnd.jupyter.widget-state+json": {
    "state": {},
    "version_major": 2,
    "version_minor": 0
   }
  }
 },
 "nbformat": 4,
 "nbformat_minor": 5
}
