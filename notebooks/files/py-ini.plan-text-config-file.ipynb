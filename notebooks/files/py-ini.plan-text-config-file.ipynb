{
 "cells": [
  {
   "cell_type": "markdown",
   "execution_count": 0,
   "id": "06eae4cd",
   "metadata": {
    "jupyter": {
     "source_hidden": false
    }
   },
   "source": [
    "# Working with INI files Using configparser"
   ]
  },
  {
   "cell_type": "markdown",
   "id": "f0a2f9a8",
   "metadata": {
    "jupyter": {
     "source_hidden": false
    }
   },
   "source": [
    "## An example INI file"
   ]
  },
  {
   "cell_type": "markdown",
   "id": "dae7ae52",
   "metadata": {
    "jupyter": {
     "source_hidden": false
    }
   },
   "source": [
    "```ini\n",
    "# Global options:\n",
    "\n",
    "[mypy]\n",
    "warn_return_any = True\n",
    "watn_unused_configs = True\n",
    "\n",
    "# per-module options:\n",
    "\n",
    "[mypy-mycode.foo.*]\n",
    "disallow_untyped_defs = True\n",
    "\n",
    "[ypy-mycode.bar]\n",
    "warn_return_any = False\n",
    "\n",
    "[mypy-somelibrary]\n",
    "ignore_missing_imports = True\n",
    "```"
   ]
  },
  {
   "cell_type": "markdown",
   "id": "600ebf19",
   "metadata": {
    "jupyter": {
     "source_hidden": false
    }
   },
   "source": [
    "## Creating a config file"
   ]
  },
  {
   "cell_type": "code",
   "execution_count": 2,
   "id": "41efc80e",
   "metadata": {
    "collapsed": false,
    "jupyter": {
     "outputs_hidden": false,
     "source_hidden": false
    }
   },
   "outputs": [
    {
     "name": "stdout",
     "output_type": "stream",
     "text": [
      "Configuration file created!\n"
     ]
    }
   ],
   "source": [
    "# create_config.py\n",
    "import configparser\n",
    "import os\n",
    "\n",
    "# the parameter `allow_no_value=True` allows keys without values, like comments\n",
    "config = configparser.ConfigParser(allow_no_value=True)\n",
    "\n",
    "config[\"mypy\"] = {\n",
    "  \"warn_return_any\": \"True\",\n",
    "  \"warn_unused_configs\": \"True\",\n",
    "}\n",
    "config.set(\"mypy\", \"disallow_untyped_defs\", \"True\")\n",
    "config.set(\"mypy\", \"\\n# Per-module options\")\n",
    "\n",
    "config[\"mypy-mycode.foo.*\"] = {\n",
    "  \"disallow_untyped_defs\": False,\n",
    "}\n",
    "config[\"ypy-mycode.bar\"] = {\n",
    "  \"warn_return_any\": \"False\",\n",
    "}\n",
    "config[\"mypy-somelibrary\"] = {\n",
    "  \"ignore_missing_imports\": \"True\",\n",
    "}\n",
    "\n",
    "cfg_path = '~/workstation/github/unapologetic-thoughts/notebooks/files/aux/sample_mypy.ini'\n",
    "expanded_cfg_path = os.path.expanduser(cfg_path)\n",
    "with open(expanded_cfg_path, \"w\") as config_file:\n",
    "  config_file.write(\"# Global options\\n\\n\")\n",
    "  config.write(config_file)\n",
    "\n",
    "print(f\"Configuration file created!\")"
   ]
  },
  {
   "cell_type": "markdown",
   "id": "63ed792e",
   "metadata": {
    "jupyter": {
     "source_hidden": false
    }
   },
   "source": [
    "## Editing a config file"
   ]
  },
  {
   "cell_type": "code",
   "execution_count": 3,
   "id": "b131ade9",
   "metadata": {
    "collapsed": false,
    "jupyter": {
     "outputs_hidden": false,
     "source_hidden": false
    }
   },
   "outputs": [
    {
     "name": "stdout",
     "output_type": "stream",
     "text": [
      "Configuration file updated!\n"
     ]
    }
   ],
   "source": [
    "# edit_config.py\n",
    "import configparser\n",
    "import os\n",
    "\n",
    "cfg_path = '~/workstation/github/unapologetic-thoughts/notebooks/files/aux/sample_mypy.ini'\n",
    "expanded_cfg_path = os.path.expanduser(cfg_path)\n",
    "\n",
    "config = configparser.ConfigParser()\n",
    "# when reading, it removes any comments\n",
    "config.read(expanded_cfg_path)\n",
    "\n",
    "# change and item's value\n",
    "config.set(\"mypy-somelibrary\", \"ignore_missing_imports\", \"False\")\n",
    "\n",
    "# add a new section\n",
    "config[\"new-random-section\"] = {\n",
    "  \"compressed\": \"True\",\n",
    "}\n",
    "\n",
    "with open(expanded_cfg_path, \"w\") as config_file:\n",
    "  config.write(config_file)\n",
    "\n",
    "print(f\"Configuration file updated!\")"
   ]
  },
  {
   "cell_type": "markdown",
   "id": "17834860",
   "metadata": {
    "jupyter": {
     "source_hidden": false
    }
   },
   "source": [
    "## Reading a config file"
   ]
  },
  {
   "cell_type": "code",
   "execution_count": 4,
   "id": "28b24995",
   "metadata": {
    "collapsed": false,
    "jupyter": {
     "outputs_hidden": false,
     "source_hidden": false
    }
   },
   "outputs": [
    {
     "name": "stdout",
     "output_type": "stream",
     "text": [
      "['mypy', 'mypy-mycode.foo.*', 'ypy-mycode.bar', 'mypy-somelibrary', 'new-random-section']\n"
     ]
    },
    {
     "name": "stdout",
     "output_type": "stream",
     "text": [
      "<Section: mypy>\n"
     ]
    },
    {
     "name": "stdout",
     "output_type": "stream",
     "text": [
      "True\n"
     ]
    }
   ],
   "source": [
    "# edit_config.py\n",
    "import configparser\n",
    "import os\n",
    "\n",
    "cfg_path = '~/workstation/github/unapologetic-thoughts/notebooks/files/aux/sample_mypy.ini'\n",
    "expanded_cfg_path = os.path.expanduser(cfg_path)\n",
    "\n",
    "config = configparser.ConfigParser()\n",
    "config.read(expanded_cfg_path)\n",
    "\n",
    "print(config.sections())\n",
    "print(config['mypy'])\n",
    "print(config['mypy'][\"warn_return_any\"])"
   ]
  }
 ],
 "metadata": {
  "kernelspec": {
   "display_name": "Local Python",
   "language": "python",
   "name": "local-python"
  },
  "language_info": {
   "codemirror_mode": {
    "name": "python",
    "version": 3
   },
   "file_extension": ".py",
   "mimetype": "text/x-python",
   "name": "python",
   "nbconvert_exporter": "python",
   "pygments_lexer": "python3",
   "version": "3.12.2"
  },
  "widgets": {
   "application/vnd.jupyter.widget-state+json": {
    "state": {},
    "version_major": 2,
    "version_minor": 0
   }
  }
 },
 "nbformat": 4,
 "nbformat_minor": 5
}
