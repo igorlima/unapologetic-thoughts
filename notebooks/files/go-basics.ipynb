{
 "cells": [
  {
   "cell_type": "markdown",
   "id": "1adbe98a",
   "metadata": {
    "jupyter": {
     "source_hidden": false
    }
   },
   "source": [
    "# Golang Basics\n",
    "\n",
    "[GoNB](https://github.com/janpfeifer/gonb) is a Go Notebook Kernel for Jupyter.\n",
    "Other available Jupyter kernels can be found [here](https://github.com/jupyter/jupyter/wiki/Jupyter-kernels).\n",
    "\n",
    "```sh\n",
    "go install github.com/janpfeifer/gonb@latest && \\\n",
    "  go install golang.org/x/tools/cmd/goimports@latest && \\\n",
    "  go install golang.org/x/tools/gopls@latest\n",
    "\n",
    "gonb --install\n",
    "```\n",
    "or:\n",
    "```sh\n",
    "go install github.com/janpfeifer/gonb@latest\n",
    "go install golang.org/x/tools/cmd/goimports@latest\n",
    "go install golang.org/x/tools/gopls@latest\n",
    "\n",
    "echo -e \"\\nexport GOPATH=/root/go\" >> ~/.bashrc\n",
    "echo -e \"\\nexport PATH=\\\"$GOPATH/bin:$PATH\\\"\" >> ~/.bashrc\n",
    "\n",
    "export GOPATH=\"/root/go\"\n",
    "export PATH=\"$GOPATH/bin:$PATH\"\n",
    "\n",
    "~/go/bin/gonb --install\n",
    "```"
   ]
  },
  {
   "cell_type": "code",
   "execution_count": 2,
   "id": "d696975f",
   "metadata": {
    "collapsed": false,
    "jupyter": {
     "outputs_hidden": false,
     "source_hidden": false
    }
   },
   "outputs": [
    {
     "name": "stdout",
     "output_type": "stream",
     "text": [
      "Hello, Go!\n",
      "Sum: 8\n"
     ]
    }
   ],
   "source": [
    "import \"fmt\"\n",
    "\n",
    "func main() {\n",
    "  // Declare and initialize a variable\n",
    "  message := \"Hello, Go!\"\n",
    "\n",
    "  // Print the message\n",
    "  fmt.Println(message)\n",
    "\n",
    "  // Call a function\n",
    "  result := add(5, 3)\n",
    "  fmt.Println(\"Sum:\", result)\n",
    "}\n",
    "\n",
    "// A simple function to add two integers\n",
    "func add(a, b int) int {\n",
    "  return a + b\n",
    "}"
   ]
  }
 ],
 "metadata": {
  "kernelspec": {
   "display_name": "Go (gonb)",
   "language": "go",
   "name": "gonb"
  },
  "language_info": {
   "codemirror_mode": "",
   "file_extension": ".go",
   "mimetype": "",
   "name": "go",
   "nbconvert_exporter": "",
   "pygments_lexer": "",
   "version": "go1.22.1"
  },
  "widgets": {
   "application/vnd.jupyter.widget-state+json": {
    "state": {},
    "version_major": 2,
    "version_minor": 0
   }
  }
 },
 "nbformat": 4,
 "nbformat_minor": 5
}
